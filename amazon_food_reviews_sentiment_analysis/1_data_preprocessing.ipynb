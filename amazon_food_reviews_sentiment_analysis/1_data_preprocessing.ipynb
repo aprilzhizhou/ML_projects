{
 "cells": [
  {
   "cell_type": "markdown",
   "id": "699cdb26",
   "metadata": {},
   "source": [
    "## 1. Data preparation\n",
    "\n",
    "### 1.1. Basic preprocessing"
   ]
  },
  {
   "cell_type": "code",
   "execution_count": 2,
   "id": "5c3904b4",
   "metadata": {},
   "outputs": [],
   "source": [
    "import warnings\n",
    "warnings.filterwarnings(\"ignore\")\n",
    "import pandas as pd\n",
    "import numpy as np\n",
    "import string\n",
    "import matplotlib.pyplot as plt\n",
    "import seaborn as sns\n",
    "import time "
   ]
  },
  {
   "cell_type": "code",
   "execution_count": 3,
   "id": "933c3eb5",
   "metadata": {},
   "outputs": [
    {
     "name": "stdout",
     "output_type": "stream",
     "text": [
      "<class 'pandas.core.frame.DataFrame'>\n",
      "RangeIndex: 568454 entries, 0 to 568453\n",
      "Data columns (total 10 columns):\n",
      " #   Column                  Non-Null Count   Dtype \n",
      "---  ------                  --------------   ----- \n",
      " 0   Id                      568454 non-null  int64 \n",
      " 1   ProductId               568454 non-null  object\n",
      " 2   UserId                  568454 non-null  object\n",
      " 3   ProfileName             568438 non-null  object\n",
      " 4   HelpfulnessNumerator    568454 non-null  int64 \n",
      " 5   HelpfulnessDenominator  568454 non-null  int64 \n",
      " 6   Score                   568454 non-null  int64 \n",
      " 7   Time                    568454 non-null  int64 \n",
      " 8   Summary                 568427 non-null  object\n",
      " 9   Text                    568454 non-null  object\n",
      "dtypes: int64(5), object(5)\n",
      "memory usage: 43.4+ MB\n"
     ]
    }
   ],
   "source": [
    "df = pd.read_csv('Reviews.csv')\n",
    "df.info()"
   ]
  },
  {
   "cell_type": "markdown",
   "id": "4c532baf",
   "metadata": {},
   "source": [
    "The dataset does not have any null values."
   ]
  },
  {
   "cell_type": "code",
   "execution_count": 4,
   "id": "01f42cc7",
   "metadata": {},
   "outputs": [
    {
     "data": {
      "text/html": [
       "<div>\n",
       "<style scoped>\n",
       "    .dataframe tbody tr th:only-of-type {\n",
       "        vertical-align: middle;\n",
       "    }\n",
       "\n",
       "    .dataframe tbody tr th {\n",
       "        vertical-align: top;\n",
       "    }\n",
       "\n",
       "    .dataframe thead th {\n",
       "        text-align: right;\n",
       "    }\n",
       "</style>\n",
       "<table border=\"1\" class=\"dataframe\">\n",
       "  <thead>\n",
       "    <tr style=\"text-align: right;\">\n",
       "      <th></th>\n",
       "      <th>Id</th>\n",
       "      <th>HelpfulnessNumerator</th>\n",
       "      <th>HelpfulnessDenominator</th>\n",
       "      <th>Score</th>\n",
       "      <th>Time</th>\n",
       "    </tr>\n",
       "  </thead>\n",
       "  <tbody>\n",
       "    <tr>\n",
       "      <th>count</th>\n",
       "      <td>568454.000000</td>\n",
       "      <td>568454.000000</td>\n",
       "      <td>568454.00000</td>\n",
       "      <td>568454.000000</td>\n",
       "      <td>5.684540e+05</td>\n",
       "    </tr>\n",
       "    <tr>\n",
       "      <th>mean</th>\n",
       "      <td>284227.500000</td>\n",
       "      <td>1.743817</td>\n",
       "      <td>2.22881</td>\n",
       "      <td>4.183199</td>\n",
       "      <td>1.296257e+09</td>\n",
       "    </tr>\n",
       "    <tr>\n",
       "      <th>std</th>\n",
       "      <td>164098.679298</td>\n",
       "      <td>7.636513</td>\n",
       "      <td>8.28974</td>\n",
       "      <td>1.310436</td>\n",
       "      <td>4.804331e+07</td>\n",
       "    </tr>\n",
       "    <tr>\n",
       "      <th>min</th>\n",
       "      <td>1.000000</td>\n",
       "      <td>0.000000</td>\n",
       "      <td>0.00000</td>\n",
       "      <td>1.000000</td>\n",
       "      <td>9.393408e+08</td>\n",
       "    </tr>\n",
       "    <tr>\n",
       "      <th>25%</th>\n",
       "      <td>142114.250000</td>\n",
       "      <td>0.000000</td>\n",
       "      <td>0.00000</td>\n",
       "      <td>4.000000</td>\n",
       "      <td>1.271290e+09</td>\n",
       "    </tr>\n",
       "    <tr>\n",
       "      <th>50%</th>\n",
       "      <td>284227.500000</td>\n",
       "      <td>0.000000</td>\n",
       "      <td>1.00000</td>\n",
       "      <td>5.000000</td>\n",
       "      <td>1.311120e+09</td>\n",
       "    </tr>\n",
       "    <tr>\n",
       "      <th>75%</th>\n",
       "      <td>426340.750000</td>\n",
       "      <td>2.000000</td>\n",
       "      <td>2.00000</td>\n",
       "      <td>5.000000</td>\n",
       "      <td>1.332720e+09</td>\n",
       "    </tr>\n",
       "    <tr>\n",
       "      <th>max</th>\n",
       "      <td>568454.000000</td>\n",
       "      <td>866.000000</td>\n",
       "      <td>923.00000</td>\n",
       "      <td>5.000000</td>\n",
       "      <td>1.351210e+09</td>\n",
       "    </tr>\n",
       "  </tbody>\n",
       "</table>\n",
       "</div>"
      ],
      "text/plain": [
       "                  Id  HelpfulnessNumerator  HelpfulnessDenominator  \\\n",
       "count  568454.000000         568454.000000            568454.00000   \n",
       "mean   284227.500000              1.743817                 2.22881   \n",
       "std    164098.679298              7.636513                 8.28974   \n",
       "min         1.000000              0.000000                 0.00000   \n",
       "25%    142114.250000              0.000000                 0.00000   \n",
       "50%    284227.500000              0.000000                 1.00000   \n",
       "75%    426340.750000              2.000000                 2.00000   \n",
       "max    568454.000000            866.000000               923.00000   \n",
       "\n",
       "               Score          Time  \n",
       "count  568454.000000  5.684540e+05  \n",
       "mean        4.183199  1.296257e+09  \n",
       "std         1.310436  4.804331e+07  \n",
       "min         1.000000  9.393408e+08  \n",
       "25%         4.000000  1.271290e+09  \n",
       "50%         5.000000  1.311120e+09  \n",
       "75%         5.000000  1.332720e+09  \n",
       "max         5.000000  1.351210e+09  "
      ]
     },
     "execution_count": 4,
     "metadata": {},
     "output_type": "execute_result"
    }
   ],
   "source": [
    "df.describe()"
   ]
  },
  {
   "cell_type": "code",
   "execution_count": 5,
   "id": "16ef5fb1",
   "metadata": {},
   "outputs": [
    {
     "data": {
      "text/plain": [
       "Id                        568454\n",
       "ProductId                  74258\n",
       "UserId                    256059\n",
       "ProfileName               218416\n",
       "HelpfulnessNumerator         231\n",
       "HelpfulnessDenominator       234\n",
       "Score                          5\n",
       "Time                        3168\n",
       "Summary                   295742\n",
       "Text                      393579\n",
       "dtype: int64"
      ]
     },
     "execution_count": 5,
     "metadata": {},
     "output_type": "execute_result"
    }
   ],
   "source": [
    "# check sum of unique items per column\n",
    "df.nunique()"
   ]
  },
  {
   "cell_type": "markdown",
   "id": "98d795c6",
   "metadata": {},
   "source": [
    "**Removing duplicates:** \n",
    "\n",
    "Here we check if there is any duplicate reviews and remove them if they exist."
   ]
  },
  {
   "cell_type": "code",
   "execution_count": 6,
   "id": "2b5f0ee4",
   "metadata": {},
   "outputs": [
    {
     "name": "stdout",
     "output_type": "stream",
     "text": [
      "(568454, 10)\n",
      "(392908, 10)\n"
     ]
    }
   ],
   "source": [
    "print(df.shape)\n",
    "df=df.drop_duplicates(subset=['UserId','ProfileName','Time','Summary'],keep='first')\n",
    "print(df.shape)"
   ]
  },
  {
   "cell_type": "markdown",
   "id": "d73f31e4",
   "metadata": {},
   "source": [
    "**Check if HelpfulnessNumerator is always larger than HelpfulnessDenominator:**\n",
    "\n",
    "Two rows have incorrect data, which are removed. "
   ]
  },
  {
   "cell_type": "code",
   "execution_count": 7,
   "id": "63ad0be3",
   "metadata": {},
   "outputs": [
    {
     "name": "stdout",
     "output_type": "stream",
     "text": [
      "(392908, 10)\n",
      "(392906, 10)\n"
     ]
    }
   ],
   "source": [
    "print(df.shape)\n",
    "df = df[df['HelpfulnessNumerator'] <= df['HelpfulnessDenominator']]\n",
    "print(df.shape)"
   ]
  },
  {
   "cell_type": "markdown",
   "id": "bc1c1740",
   "metadata": {},
   "source": [
    "**Adding \"Sentiment\" column:**\n",
    "\n",
    "We rename the \"HelpfulnessNumerator\" and \"HelpfulnessDenominator\" columns as \"VotesHelpful\" and \"VotesTotal\", respectively, and add a \"Sentiment\" column where the sentiment is positive if score is more than 3 and negative if its score is less to 3. Neutral reviews with score equal to 3 are removed. From the value counts we can see that there is more positive reviews than negative reviews. "
   ]
  },
  {
   "cell_type": "code",
   "execution_count": 8,
   "id": "ffd22817",
   "metadata": {},
   "outputs": [],
   "source": [
    "# rename columns and add a sentiment column\n",
    "df.columns = ['Id', 'ProductId', 'UserId', 'ProfileName', 'VotesHelpful',\n",
    "       'VotesTotal', 'Score', 'Time', 'Summary', 'Text']"
   ]
  },
  {
   "cell_type": "code",
   "execution_count": 9,
   "id": "b3447034",
   "metadata": {},
   "outputs": [
    {
     "name": "stdout",
     "output_type": "stream",
     "text": [
      "(392906, 10)\n",
      "(363200, 10)\n"
     ]
    },
    {
     "data": {
      "text/plain": [
       "positive    306184\n",
       "negative     57016\n",
       "Name: Sentiment, dtype: int64"
      ]
     },
     "execution_count": 9,
     "metadata": {},
     "output_type": "execute_result"
    }
   ],
   "source": [
    "print(df.shape)\n",
    "df = df[df['Score'] != 3]\n",
    "print(df.shape)\n",
    "df['Sentiment'] = df['Score'].apply(lambda score: 'positive' if score >3 else 'negative')\n",
    "df['Sentiment'].value_counts()"
   ]
  },
  {
   "cell_type": "code",
   "execution_count": 10,
   "id": "ead80c14",
   "metadata": {},
   "outputs": [
    {
     "data": {
      "text/html": [
       "<div>\n",
       "<style scoped>\n",
       "    .dataframe tbody tr th:only-of-type {\n",
       "        vertical-align: middle;\n",
       "    }\n",
       "\n",
       "    .dataframe tbody tr th {\n",
       "        vertical-align: top;\n",
       "    }\n",
       "\n",
       "    .dataframe thead th {\n",
       "        text-align: right;\n",
       "    }\n",
       "</style>\n",
       "<table border=\"1\" class=\"dataframe\">\n",
       "  <thead>\n",
       "    <tr style=\"text-align: right;\">\n",
       "      <th></th>\n",
       "      <th>Score</th>\n",
       "      <th>Sentiment</th>\n",
       "      <th>Summary</th>\n",
       "      <th>Text</th>\n",
       "    </tr>\n",
       "  </thead>\n",
       "  <tbody>\n",
       "    <tr>\n",
       "      <th>0</th>\n",
       "      <td>5</td>\n",
       "      <td>positive</td>\n",
       "      <td>Good Quality Dog Food</td>\n",
       "      <td>I have bought several of the Vitality canned d...</td>\n",
       "    </tr>\n",
       "    <tr>\n",
       "      <th>1</th>\n",
       "      <td>1</td>\n",
       "      <td>negative</td>\n",
       "      <td>Not as Advertised</td>\n",
       "      <td>Product arrived labeled as Jumbo Salted Peanut...</td>\n",
       "    </tr>\n",
       "    <tr>\n",
       "      <th>2</th>\n",
       "      <td>4</td>\n",
       "      <td>positive</td>\n",
       "      <td>\"Delight\" says it all</td>\n",
       "      <td>This is a confection that has been around a fe...</td>\n",
       "    </tr>\n",
       "    <tr>\n",
       "      <th>3</th>\n",
       "      <td>2</td>\n",
       "      <td>negative</td>\n",
       "      <td>Cough Medicine</td>\n",
       "      <td>If you are looking for the secret ingredient i...</td>\n",
       "    </tr>\n",
       "    <tr>\n",
       "      <th>4</th>\n",
       "      <td>5</td>\n",
       "      <td>positive</td>\n",
       "      <td>Great taffy</td>\n",
       "      <td>Great taffy at a great price.  There was a wid...</td>\n",
       "    </tr>\n",
       "  </tbody>\n",
       "</table>\n",
       "</div>"
      ],
      "text/plain": [
       "   Score Sentiment                Summary  \\\n",
       "0      5  positive  Good Quality Dog Food   \n",
       "1      1  negative      Not as Advertised   \n",
       "2      4  positive  \"Delight\" says it all   \n",
       "3      2  negative         Cough Medicine   \n",
       "4      5  positive            Great taffy   \n",
       "\n",
       "                                                Text  \n",
       "0  I have bought several of the Vitality canned d...  \n",
       "1  Product arrived labeled as Jumbo Salted Peanut...  \n",
       "2  This is a confection that has been around a fe...  \n",
       "3  If you are looking for the secret ingredient i...  \n",
       "4  Great taffy at a great price.  There was a wid...  "
      ]
     },
     "execution_count": 10,
     "metadata": {},
     "output_type": "execute_result"
    }
   ],
   "source": [
    "df=df[['Score','Sentiment','Summary','Text']]\n",
    "df.head()"
   ]
  },
  {
   "cell_type": "code",
   "execution_count": 16,
   "id": "678529f5-c5b0-4d81-9bca-a0112da6ef67",
   "metadata": {},
   "outputs": [
    {
     "data": {
      "image/png": "[encoded data removed]",
      "text/plain": [
       "<Figure size 300x300 with 1 Axes>"
      ]
     },
     "metadata": {},
     "output_type": "display_data"
    }
   ],
   "source": [
    "import seaborn as sns\n",
    "sns.set_theme()\n",
    "fig, ax = plt.subplots(figsize=(3,3))\n",
    "sns.countplot(ax=ax,x=df['Sentiment'])\n",
    "plt.show()"
   ]
  },
  {
   "cell_type": "markdown",
   "id": "2ff61e73",
   "metadata": {},
   "source": [
    "From the histogram, we can see that the data is imbalanced. "
   ]
  },
  {
   "cell_type": "markdown",
   "id": "a8b8e313",
   "metadata": {},
   "source": [
    "### 1.2. Text preprocessing\n",
    "1. **Decontracting phrases**: converting phrases like \"I'm\", \"I'wont\" to their decontracted versions \n",
    "2. **Removing html tags**\n",
    "3. **Removing punctuations**\n",
    "4. **Removing stopwords**: stopwords like \"the\", \"a\", \"me\" will be removed\n",
    "5. **Stemming**: words will be transformed to its stem, e.g., tasty - tasti\n"
   ]
  },
  {
   "cell_type": "code",
   "execution_count": 17,
   "id": "4996340f",
   "metadata": {},
   "outputs": [],
   "source": [
    "import re\n",
    "from bs4 import BeautifulSoup\n",
    "import nltk\n",
    "import string\n",
    "from nltk.corpus import stopwords\n",
    "from nltk.tokenize import word_tokenize"
   ]
  },
  {
   "cell_type": "code",
   "execution_count": 18,
   "id": "0015efb7",
   "metadata": {},
   "outputs": [
    {
     "data": {
      "text/plain": [
       "0    I have bought several of the Vitality canned d...\n",
       "1    Product arrived labeled as Jumbo Salted Peanut...\n",
       "2    This is a confection that has been around a fe...\n",
       "3    If you are looking for the secret ingredient i...\n",
       "4    Great taffy at a great price.  There was a wid...\n",
       "Name: Text, dtype: object"
      ]
     },
     "execution_count": 18,
     "metadata": {},
     "output_type": "execute_result"
    }
   ],
   "source": [
    "df['Text'].head()"
   ]
  },
  {
   "cell_type": "code",
   "execution_count": 20,
   "id": "7b8535cb",
   "metadata": {},
   "outputs": [
    {
     "data": {
      "text/plain": [
       "\"I don't know if it's the cactus or the tequila or just the unique combination of ingredients, but the flavour of this hot sauce makes it one of a kind!  We picked up a bottle once on a trip we were on and brought it back home with us and were totally blown away!  When we realized that we simply couldn't find it anywhere in our city we were bummed.<br /><br />Now, because of the magic of the internet, we have a case of the sauce and are ecstatic because of it.<br /><br />If you love hot sauce..I mean really love hot sauce, but don't want a sauce that tastelessly burns your throat, grab a bottle of Tequila Picante Gourmet de Inclan.  Just realize that once you taste it, you will never want to use any other sauce.<br /><br />Thank you for the personal, incredible service!\""
      ]
     },
     "execution_count": 20,
     "metadata": {},
     "output_type": "execute_result"
    }
   ],
   "source": [
    "df['Text'][10]"
   ]
  },
  {
   "cell_type": "markdown",
   "id": "90938493",
   "metadata": {},
   "source": [
    "**An example of using `nltk`, `re`, and `bs4` for removing stopwords, punctuations, html tags, converting words to their stems:**"
   ]
  },
  {
   "cell_type": "markdown",
   "id": "824db8ab",
   "metadata": {},
   "source": [
    "We first replace the contracted phasese like \"I'm, won't\" with their decontracted versions using the `re` package."
   ]
  },
  {
   "cell_type": "code",
   "execution_count": 21,
   "id": "1df505f1",
   "metadata": {},
   "outputs": [],
   "source": [
    "def decontracted(phrase):\n",
    "    # specific\n",
    "    phrase = re.sub(r\"won't\", \"will not\", phrase)\n",
    "    phrase = re.sub(r\"can\\'t\", \"can not\", phrase)\n",
    "\n",
    "    # general\n",
    "    phrase = re.sub(r\"n\\'t\", \" not\", phrase)\n",
    "    phrase = re.sub(r\"\\'re\", \" are\", phrase)\n",
    "    phrase = re.sub(r\"\\'s\", \" is\", phrase)\n",
    "    phrase = re.sub(r\"\\'d\", \" would\", phrase)\n",
    "    phrase = re.sub(r\"\\'ll\", \" will\", phrase)\n",
    "    phrase = re.sub(r\"\\'t\", \" not\", phrase)\n",
    "    phrase = re.sub(r\"\\'ve\", \" have\", phrase)\n",
    "    phrase = re.sub(r\"\\'m\", \" am\", phrase)\n",
    "    return phrase"
   ]
  },
  {
   "cell_type": "code",
   "execution_count": 48,
   "id": "eda80993",
   "metadata": {},
   "outputs": [
    {
     "name": "stdout",
     "output_type": "stream",
     "text": [
      "Before:\n",
      "\n",
      "I don't know if it's the cactus or the tequila or just the unique combination of ingredients, but the flavour of this hot sauce makes it one of a kind!  We picked up a bottle once on a trip we were on and brought it back home with us and were totally blown away!  When we realized that we simply couldn't find it anywhere in our city we were bummed.<br /><br />Now, because of the magic of the internet, we have a case of the sauce and are ecstatic because of it.<br /><br />If you love hot sauce..I mean really love hot sauce, but don't want a sauce that tastelessly burns your throat, grab a bottle of Tequila Picante Gourmet de Inclan.  Just realize that once you taste it, you will never want to use any other sauce.<br /><br />Thank you for the personal, incredible service!\n",
      "\n",
      "After:\n",
      "\n",
      "I do not know if it is the cactus or the tequila or just the unique combination of ingredients, but the flavour of this hot sauce makes it one of a kind!  We picked up a bottle once on a trip we were on and brought it back home with us and were totally blown away!  When we realized that we simply could not find it anywhere in our city we were bummed.<br /><br />Now, because of the magic of the internet, we have a case of the sauce and are ecstatic because of it.<br /><br />If you love hot sauce..I mean really love hot sauce, but do not want a sauce that tastelessly burns your throat, grab a bottle of Tequila Picante Gourmet de Inclan.  Just realize that once you taste it, you will never want to use any other sauce.<br /><br />Thank you for the personal, incredible service!\n"
     ]
    }
   ],
   "source": [
    "text = df['Text'][10]\n",
    "print('Before:\\n')\n",
    "print(text)\n",
    "decontracted_text = decontracted(text)\n",
    "print()\n",
    "print('After:\\n')\n",
    "print(decontracted_text)\n"
   ]
  },
  {
   "cell_type": "markdown",
   "id": "5b464a1e",
   "metadata": {},
   "source": [
    "Next, we use the `bs4` package to remove the html tags in the text, and use `re` to remove all punctuations."
   ]
  },
  {
   "cell_type": "code",
   "execution_count": 49,
   "id": "6cfb8d85-6789-43b8-946e-4b5ca4bc9327",
   "metadata": {},
   "outputs": [
    {
     "name": "stdout",
     "output_type": "stream",
     "text": [
      "Before:\n",
      "\n",
      "I do not know if it is the cactus or the tequila or just the unique combination of ingredients, but the flavour of this hot sauce makes it one of a kind!  We picked up a bottle once on a trip we were on and brought it back home with us and were totally blown away!  When we realized that we simply could not find it anywhere in our city we were bummed.<br /><br />Now, because of the magic of the internet, we have a case of the sauce and are ecstatic because of it.<br /><br />If you love hot sauce..I mean really love hot sauce, but do not want a sauce that tastelessly burns your throat, grab a bottle of Tequila Picante Gourmet de Inclan.  Just realize that once you taste it, you will never want to use any other sauce.<br /><br />Thank you for the personal, incredible service!\n",
      "\n",
      "After:\n",
      "\n",
      "I do not know if it is the cactus or the tequila or just the unique combination of ingredients, but the flavour of this hot sauce makes it one of a kind!  We picked up a bottle once on a trip we were on and brought it back home with us and were totally blown away!  When we realized that we simply could not find it anywhere in our city we were bummed.Now, because of the magic of the internet, we have a case of the sauce and are ecstatic because of it.If you love hot sauce..I mean really love hot sauce, but do not want a sauce that tastelessly burns your throat, grab a bottle of Tequila Picante Gourmet de Inclan.  Just realize that once you taste it, you will never want to use any other sauce.Thank you for the personal, incredible service!\n"
     ]
    }
   ],
   "source": [
    "print('Before:\\n')\n",
    "print(decontracted_text)\n",
    "decontracted_text = BeautifulSoup(decontracted_text, 'lxml').get_text()\n",
    "print()\n",
    "print('After:\\n')\n",
    "print(decontracted_text)"
   ]
  },
  {
   "cell_type": "code",
   "execution_count": 50,
   "id": "64389eaf",
   "metadata": {},
   "outputs": [
    {
     "name": "stdout",
     "output_type": "stream",
     "text": [
      "Before:\n",
      "\n",
      "I do not know if it is the cactus or the tequila or just the unique combination of ingredients, but the flavour of this hot sauce makes it one of a kind!  We picked up a bottle once on a trip we were on and brought it back home with us and were totally blown away!  When we realized that we simply could not find it anywhere in our city we were bummed.Now, because of the magic of the internet, we have a case of the sauce and are ecstatic because of it.If you love hot sauce..I mean really love hot sauce, but do not want a sauce that tastelessly burns your throat, grab a bottle of Tequila Picante Gourmet de Inclan.  Just realize that once you taste it, you will never want to use any other sauce.Thank you for the personal, incredible service!\n",
      "\n",
      "After:\n",
      "\n",
      "I do not know if it is the cactus or the tequila or just the unique combination of ingredients but the flavour of this hot sauce makes it one of a kind  We picked up a bottle once on a trip we were on and brought it back home with us and were totally blown away  When we realized that we simply could not find it anywhere in our city we were bummedNow because of the magic of the internet we have a case of the sauce and are ecstatic because of itIf you love hot sauceI mean really love hot sauce but do not want a sauce that tastelessly burns your throat grab a bottle of Tequila Picante Gourmet de Inclan  Just realize that once you taste it you will never want to use any other sauceThank you for the personal incredible service\n"
     ]
    }
   ],
   "source": [
    "print('Before:\\n')\n",
    "print(decontracted_text)\n",
    "decontracted_text = re.sub(r\"[^a-zA-Z ]\",r\"\",decontracted_text)\n",
    "print()\n",
    "print('After:\\n')\n",
    "print(decontracted_text)"
   ]
  },
  {
   "cell_type": "markdown",
   "id": "5f144060",
   "metadata": {},
   "source": [
    "Now we use the method word_tokenize() to split a sentence into words. The output of word tokenization can be converted to Data Frame for better text understanding in machine learning applications. Then, we remove all the stopwords from the word tokens. "
   ]
  },
  {
   "cell_type": "code",
   "execution_count": 44,
   "id": "4cd6a671",
   "metadata": {},
   "outputs": [
    {
     "name": "stdout",
     "output_type": "stream",
     "text": [
      "{'but', 'did', \"haven't\", 'such', 'won', 'there', 'be', 'was', \"mightn't\", 'further', 'because', 'them', 'whom', 'hadn', 'you', 'from', 'doing', 'isn', 'over', 'll', 'while', 'once', 'having', 'until', 'own', 'ma', 'i', 'for', 'her', 'and', 'before', 'had', 'this', 'do', 'at', \"couldn't\", 'shouldn', 'to', 'that', 'ain', 'each', 'needn', 'off', 'where', 'ourselves', 'wouldn', 'how', 'yourself', 'ours', 'yourselves', 'why', 'nor', 'it', 'his', 'herself', \"don't\", 'no', 'couldn', \"won't\", 'an', 'other', \"you'd\", 'not', \"shouldn't\", 'shan', 'down', 'both', \"you'll\", 'their', 'so', 'been', 'about', 'can', 'is', \"hasn't\", 'they', 're', 'all', 'yours', 'after', 'd', 'wasn', 'by', 'have', 'up', 'if', \"doesn't\", 'him', 'above', 'me', \"hadn't\", 'now', 'we', 'hers', 'has', \"should've\", 'mustn', 'are', 'these', 'don', \"mustn't\", 'too', 'm', \"aren't\", 'most', 'the', 'than', 'more', 't', 'will', 'any', \"you've\", 'does', 'which', 'on', 'some', 'weren', 'those', \"isn't\", 'its', 'very', 'or', 'o', 'your', 'themselves', 'hasn', \"shan't\", 'with', 'just', \"didn't\", 'of', 'again', 'against', \"wasn't\", 'my', 'haven', 'same', 'myself', 'what', 'mightn', 'didn', 'theirs', 'a', 'y', 'out', 'only', 'as', 'then', 'through', 'aren', 'into', 'she', 's', 'am', \"it's\", 'under', 'our', 'during', \"she's\", 'in', \"that'll\", 've', 'doesn', \"needn't\", \"weren't\", 'below', 'who', 'should', 'between', 'few', 'when', 'here', 'were', \"wouldn't\", 'itself', 'he', \"you're\", 'himself', 'being'}\n"
     ]
    }
   ],
   "source": [
    "# import stop words\n",
    "stop_words = set(stopwords.words('english'))\n",
    "print(stop_words)"
   ]
  },
  {
   "cell_type": "code",
   "execution_count": 45,
   "id": "77118520",
   "metadata": {},
   "outputs": [
    {
     "name": "stdout",
     "output_type": "stream",
     "text": [
      "['i', 'do', 'not', 'know', 'if', 'it', 'is', 'the', 'cactus', 'or', 'the', 'tequila', 'or', 'just', 'the', 'unique', 'combination', 'of', 'ingredients', 'but', 'the', 'flavour', 'of', 'this', 'hot', 'sauce', 'makes', 'it', 'one', 'of', 'a', 'kind', 'we', 'picked', 'up', 'a', 'bottle', 'once', 'on', 'a', 'trip', 'we', 'were', 'on', 'and', 'brought', 'it', 'back', 'home', 'with', 'us', 'and', 'were', 'totally', 'blown', 'away', 'when', 'we', 'realized', 'that', 'we', 'simply', 'could', 'not', 'find', 'it', 'anywhere', 'in', 'our', 'city', 'we', 'were', 'bummednow', 'because', 'of', 'the', 'magic', 'of', 'the', 'internet', 'we', 'have', 'a', 'case', 'of', 'the', 'sauce', 'and', 'are', 'ecstatic', 'because', 'of', 'itif', 'you', 'love', 'hot', 'saucei', 'mean', 'really', 'love', 'hot', 'sauce', 'but', 'do', 'not', 'want', 'a', 'sauce', 'that', 'tastelessly', 'burns', 'your', 'throat', 'grab', 'a', 'bottle', 'of', 'tequila', 'picante', 'gourmet', 'de', 'inclan', 'just', 'realize', 'that', 'once', 'you', 'taste', 'it', 'you', 'will', 'never', 'want', 'to', 'use', 'any', 'other', 'saucethank', 'you', 'for', 'the', 'personal', 'incredible', 'service']\n",
      "\n",
      "['know', 'cactus', 'tequila', 'unique', 'combination', 'ingredients', 'flavour', 'hot', 'sauce', 'makes', 'one', 'kind', 'picked', 'bottle', 'trip', 'brought', 'back', 'home', 'us', 'totally', 'blown', 'away', 'realized', 'simply', 'could', 'find', 'anywhere', 'city', 'bummednow', 'magic', 'internet', 'case', 'sauce', 'ecstatic', 'itif', 'love', 'hot', 'saucei', 'mean', 'really', 'love', 'hot', 'sauce', 'want', 'sauce', 'tastelessly', 'burns', 'throat', 'grab', 'bottle', 'tequila', 'picante', 'gourmet', 'de', 'inclan', 'realize', 'taste', 'never', 'want', 'use', 'saucethank', 'personal', 'incredible', 'service']\n"
     ]
    }
   ],
   "source": [
    "word_tokens = word_tokenize(decontracted_text.lower())\n",
    "word_tokens_wo_stopwords = [w for w in word_tokens if w not in stop_words ]\n",
    "print(word_tokens)\n",
    "print()\n",
    "print(word_tokens_wo_stopwords)\n",
    "# print()\n",
    "# print(\" \".join(word_tokens_wo_stopwords))"
   ]
  },
  {
   "cell_type": "markdown",
   "id": "d6ffa1d4",
   "metadata": {},
   "source": [
    "Now we convert the works in `word_tokens_wo_stopwords` to their stems. "
   ]
  },
  {
   "cell_type": "code",
   "execution_count": 46,
   "id": "fcdff03f",
   "metadata": {},
   "outputs": [
    {
     "name": "stdout",
     "output_type": "stream",
     "text": [
      "['know', 'cactu', 'tequila', 'uniqu', 'combin', 'ingredi', 'flavour', 'hot', 'sauc', 'make', 'one', 'kind', 'pick', 'bottl', 'trip', 'brought', 'back', 'home', 'us', 'total', 'blown', 'away', 'realiz', 'simpli', 'could', 'find', 'anywher', 'citi', 'bummednow', 'magic', 'internet', 'case', 'sauc', 'ecstat', 'itif', 'love', 'hot', 'saucei', 'mean', 'realli', 'love', 'hot', 'sauc', 'want', 'sauc', 'tastelessli', 'burn', 'throat', 'grab', 'bottl', 'tequila', 'picant', 'gourmet', 'de', 'inclan', 'realiz', 'tast', 'never', 'want', 'use', 'saucethank', 'person', 'incred', 'servic']\n",
      "\n",
      "know cactu tequila uniqu combin ingredi flavour hot sauc make one kind pick bottl trip brought back home us total blown away realiz simpli could find anywher citi bummednow magic internet case sauc ecstat itif love hot saucei mean realli love hot sauc want sauc tastelessli burn throat grab bottl tequila picant gourmet de inclan realiz tast never want use saucethank person incred servic\n"
     ]
    }
   ],
   "source": [
    "from nltk.stem import PorterStemmer\n",
    "ps = PorterStemmer()\n",
    "word_tokens_stems = [ps.stem(w) for w in word_tokens_wo_stopwords]\n",
    "print(word_tokens_stems)\n",
    "print()\n",
    "print(\" \".join(word_tokens_stems))"
   ]
  },
  {
   "cell_type": "markdown",
   "id": "7da6906c",
   "metadata": {},
   "source": [
    "Let's now apply the same process to all the texts in the data: "
   ]
  },
  {
   "cell_type": "code",
   "execution_count": 51,
   "id": "c6652d57",
   "metadata": {},
   "outputs": [
    {
     "name": "stdout",
     "output_type": "stream",
     "text": [
      "395.70558881759644 seconds has elapsed.\n"
     ]
    }
   ],
   "source": [
    "Cleaned_text = []\n",
    "t = time.time()\n",
    "for text in df['Text'].values:\n",
    "    text = decontracted(text) #decontract words in text \n",
    "    text = BeautifulSoup(text, 'lxml').get_text()\n",
    "    text = re.sub(r\"[^a-zA-Z ]\",r\"\",text)\n",
    "    word_tokens = word_tokenize(text.lower())\n",
    "    word_tokens_wo_stopwords = [w for w in word_tokens if w not in stop_words ]\n",
    "    word_tokens_stems = [ps.stem(w) for w in word_tokens_wo_stopwords]\n",
    "    Cleaned_text.append(\" \".join(word_tokens_stems))\n",
    "\n",
    "\n",
    "ElapsedTime = time.time()-t\n",
    "print(f\"{ElapsedTime} seconds has elapsed.\")\n",
    "    "
   ]
  },
  {
   "cell_type": "code",
   "execution_count": 52,
   "id": "3db4cf26",
   "metadata": {},
   "outputs": [
    {
     "data": {
      "text/html": [
       "<div>\n",
       "<style scoped>\n",
       "    .dataframe tbody tr th:only-of-type {\n",
       "        vertical-align: middle;\n",
       "    }\n",
       "\n",
       "    .dataframe tbody tr th {\n",
       "        vertical-align: top;\n",
       "    }\n",
       "\n",
       "    .dataframe thead th {\n",
       "        text-align: right;\n",
       "    }\n",
       "</style>\n",
       "<table border=\"1\" class=\"dataframe\">\n",
       "  <thead>\n",
       "    <tr style=\"text-align: right;\">\n",
       "      <th></th>\n",
       "      <th>Score</th>\n",
       "      <th>Sentiment</th>\n",
       "      <th>Summary</th>\n",
       "      <th>Text</th>\n",
       "      <th>Cleaned_text</th>\n",
       "    </tr>\n",
       "  </thead>\n",
       "  <tbody>\n",
       "    <tr>\n",
       "      <th>0</th>\n",
       "      <td>5</td>\n",
       "      <td>positive</td>\n",
       "      <td>Good Quality Dog Food</td>\n",
       "      <td>I have bought several of the Vitality canned d...</td>\n",
       "      <td>bought sever vital can dog food product found ...</td>\n",
       "    </tr>\n",
       "    <tr>\n",
       "      <th>1</th>\n",
       "      <td>1</td>\n",
       "      <td>negative</td>\n",
       "      <td>Not as Advertised</td>\n",
       "      <td>Product arrived labeled as Jumbo Salted Peanut...</td>\n",
       "      <td>product arriv label jumbo salt peanutsth peanu...</td>\n",
       "    </tr>\n",
       "    <tr>\n",
       "      <th>2</th>\n",
       "      <td>4</td>\n",
       "      <td>positive</td>\n",
       "      <td>\"Delight\" says it all</td>\n",
       "      <td>This is a confection that has been around a fe...</td>\n",
       "      <td>confect around centuri light pillowi citru gel...</td>\n",
       "    </tr>\n",
       "    <tr>\n",
       "      <th>3</th>\n",
       "      <td>2</td>\n",
       "      <td>negative</td>\n",
       "      <td>Cough Medicine</td>\n",
       "      <td>If you are looking for the secret ingredient i...</td>\n",
       "      <td>look secret ingredi robitussin believ found go...</td>\n",
       "    </tr>\n",
       "    <tr>\n",
       "      <th>4</th>\n",
       "      <td>5</td>\n",
       "      <td>positive</td>\n",
       "      <td>Great taffy</td>\n",
       "      <td>Great taffy at a great price.  There was a wid...</td>\n",
       "      <td>great taffi great price wide assort yummi taff...</td>\n",
       "    </tr>\n",
       "    <tr>\n",
       "      <th>...</th>\n",
       "      <td>...</td>\n",
       "      <td>...</td>\n",
       "      <td>...</td>\n",
       "      <td>...</td>\n",
       "      <td>...</td>\n",
       "    </tr>\n",
       "    <tr>\n",
       "      <th>568449</th>\n",
       "      <td>5</td>\n",
       "      <td>positive</td>\n",
       "      <td>Will not do without</td>\n",
       "      <td>Great for sesame chicken..this is a good if no...</td>\n",
       "      <td>great sesam chickenthi good better restur eate...</td>\n",
       "    </tr>\n",
       "    <tr>\n",
       "      <th>568450</th>\n",
       "      <td>2</td>\n",
       "      <td>negative</td>\n",
       "      <td>disappointed</td>\n",
       "      <td>I'm disappointed with the flavor. The chocolat...</td>\n",
       "      <td>disappoint flavor chocol note especi weak milk...</td>\n",
       "    </tr>\n",
       "    <tr>\n",
       "      <th>568451</th>\n",
       "      <td>5</td>\n",
       "      <td>positive</td>\n",
       "      <td>Perfect for our maltipoo</td>\n",
       "      <td>These stars are small, so you can give 10-15 o...</td>\n",
       "      <td>star small give one train session tri train do...</td>\n",
       "    </tr>\n",
       "    <tr>\n",
       "      <th>568452</th>\n",
       "      <td>5</td>\n",
       "      <td>positive</td>\n",
       "      <td>Favorite Training and reward treat</td>\n",
       "      <td>These are the BEST treats for training and rew...</td>\n",
       "      <td>best treat train reward dog good groom lower c...</td>\n",
       "    </tr>\n",
       "    <tr>\n",
       "      <th>568453</th>\n",
       "      <td>5</td>\n",
       "      <td>positive</td>\n",
       "      <td>Great Honey</td>\n",
       "      <td>I am very satisfied ,product is as advertised,...</td>\n",
       "      <td>satisfi product advertis use cereal raw vinega...</td>\n",
       "    </tr>\n",
       "  </tbody>\n",
       "</table>\n",
       "<p>363200 rows × 5 columns</p>\n",
       "</div>"
      ],
      "text/plain": [
       "        Score Sentiment                             Summary  \\\n",
       "0           5  positive               Good Quality Dog Food   \n",
       "1           1  negative                   Not as Advertised   \n",
       "2           4  positive               \"Delight\" says it all   \n",
       "3           2  negative                      Cough Medicine   \n",
       "4           5  positive                         Great taffy   \n",
       "...       ...       ...                                 ...   \n",
       "568449      5  positive                 Will not do without   \n",
       "568450      2  negative                        disappointed   \n",
       "568451      5  positive            Perfect for our maltipoo   \n",
       "568452      5  positive  Favorite Training and reward treat   \n",
       "568453      5  positive                         Great Honey   \n",
       "\n",
       "                                                     Text  \\\n",
       "0       I have bought several of the Vitality canned d...   \n",
       "1       Product arrived labeled as Jumbo Salted Peanut...   \n",
       "2       This is a confection that has been around a fe...   \n",
       "3       If you are looking for the secret ingredient i...   \n",
       "4       Great taffy at a great price.  There was a wid...   \n",
       "...                                                   ...   \n",
       "568449  Great for sesame chicken..this is a good if no...   \n",
       "568450  I'm disappointed with the flavor. The chocolat...   \n",
       "568451  These stars are small, so you can give 10-15 o...   \n",
       "568452  These are the BEST treats for training and rew...   \n",
       "568453  I am very satisfied ,product is as advertised,...   \n",
       "\n",
       "                                             Cleaned_text  \n",
       "0       bought sever vital can dog food product found ...  \n",
       "1       product arriv label jumbo salt peanutsth peanu...  \n",
       "2       confect around centuri light pillowi citru gel...  \n",
       "3       look secret ingredi robitussin believ found go...  \n",
       "4       great taffi great price wide assort yummi taff...  \n",
       "...                                                   ...  \n",
       "568449  great sesam chickenthi good better restur eate...  \n",
       "568450  disappoint flavor chocol note especi weak milk...  \n",
       "568451  star small give one train session tri train do...  \n",
       "568452  best treat train reward dog good groom lower c...  \n",
       "568453  satisfi product advertis use cereal raw vinega...  \n",
       "\n",
       "[363200 rows x 5 columns]"
      ]
     },
     "execution_count": 52,
     "metadata": {},
     "output_type": "execute_result"
    }
   ],
   "source": [
    "df['Cleaned_text'] = Cleaned_text\n",
    "df"
   ]
  },
  {
   "cell_type": "code",
   "execution_count": 53,
   "id": "ab160ad0",
   "metadata": {},
   "outputs": [],
   "source": [
    "df_clean = df[['Score','Cleaned_text']]\n",
    "df_clean.loc[:,'Score'] = df_clean['Score'].apply(lambda score: 1 if score >3 else 0)"
   ]
  },
  {
   "cell_type": "code",
   "execution_count": 55,
   "id": "730cbd28",
   "metadata": {},
   "outputs": [
    {
     "data": {
      "text/html": [
       "<div>\n",
       "<style scoped>\n",
       "    .dataframe tbody tr th:only-of-type {\n",
       "        vertical-align: middle;\n",
       "    }\n",
       "\n",
       "    .dataframe tbody tr th {\n",
       "        vertical-align: top;\n",
       "    }\n",
       "\n",
       "    .dataframe thead th {\n",
       "        text-align: right;\n",
       "    }\n",
       "</style>\n",
       "<table border=\"1\" class=\"dataframe\">\n",
       "  <thead>\n",
       "    <tr style=\"text-align: right;\">\n",
       "      <th></th>\n",
       "      <th>Score</th>\n",
       "      <th>Cleaned_text</th>\n",
       "    </tr>\n",
       "  </thead>\n",
       "  <tbody>\n",
       "    <tr>\n",
       "      <th>0</th>\n",
       "      <td>1</td>\n",
       "      <td>bought sever vital can dog food product found ...</td>\n",
       "    </tr>\n",
       "    <tr>\n",
       "      <th>1</th>\n",
       "      <td>0</td>\n",
       "      <td>product arriv label jumbo salt peanutsth peanu...</td>\n",
       "    </tr>\n",
       "    <tr>\n",
       "      <th>2</th>\n",
       "      <td>1</td>\n",
       "      <td>confect around centuri light pillowi citru gel...</td>\n",
       "    </tr>\n",
       "    <tr>\n",
       "      <th>3</th>\n",
       "      <td>0</td>\n",
       "      <td>look secret ingredi robitussin believ found go...</td>\n",
       "    </tr>\n",
       "    <tr>\n",
       "      <th>4</th>\n",
       "      <td>1</td>\n",
       "      <td>great taffi great price wide assort yummi taff...</td>\n",
       "    </tr>\n",
       "  </tbody>\n",
       "</table>\n",
       "</div>"
      ],
      "text/plain": [
       "   Score                                       Cleaned_text\n",
       "0      1  bought sever vital can dog food product found ...\n",
       "1      0  product arriv label jumbo salt peanutsth peanu...\n",
       "2      1  confect around centuri light pillowi citru gel...\n",
       "3      0  look secret ingredi robitussin believ found go...\n",
       "4      1  great taffi great price wide assort yummi taff..."
      ]
     },
     "execution_count": 55,
     "metadata": {},
     "output_type": "execute_result"
    }
   ],
   "source": [
    "df_clean.head()"
   ]
  },
  {
   "cell_type": "code",
   "execution_count": 56,
   "id": "cd386a86",
   "metadata": {},
   "outputs": [],
   "source": [
    "# save dataframe as a csv file  \n",
    "df_clean.to_csv('cleaned_data.csv',index=False)"
   ]
  },
  {
   "cell_type": "markdown",
   "id": "e6a4447c",
   "metadata": {},
   "source": [
    "## 2. Feature engineering\n",
    "\n",
    "Creating features (vectors) from texts: \n",
    "1. Bag of words\n",
    "    - Unigram\n",
    "    - Bigram\n",
    "2. TF-IDF (Term Frequency - Inverse Document Frequency )\n",
    "3. Word2Vec"
   ]
  },
  {
   "cell_type": "code",
   "execution_count": 110,
   "id": "ef6c521a",
   "metadata": {},
   "outputs": [
    {
     "data": {
      "text/html": [
       "<div>\n",
       "<style scoped>\n",
       "    .dataframe tbody tr th:only-of-type {\n",
       "        vertical-align: middle;\n",
       "    }\n",
       "\n",
       "    .dataframe tbody tr th {\n",
       "        vertical-align: top;\n",
       "    }\n",
       "\n",
       "    .dataframe thead th {\n",
       "        text-align: right;\n",
       "    }\n",
       "</style>\n",
       "<table border=\"1\" class=\"dataframe\">\n",
       "  <thead>\n",
       "    <tr style=\"text-align: right;\">\n",
       "      <th></th>\n",
       "      <th>Score</th>\n",
       "      <th>Cleaned_text</th>\n",
       "    </tr>\n",
       "  </thead>\n",
       "  <tbody>\n",
       "    <tr>\n",
       "      <th>0</th>\n",
       "      <td>1</td>\n",
       "      <td>bought sever vital can dog food product found ...</td>\n",
       "    </tr>\n",
       "    <tr>\n",
       "      <th>1</th>\n",
       "      <td>0</td>\n",
       "      <td>product arriv label jumbo salt peanutsth peanu...</td>\n",
       "    </tr>\n",
       "    <tr>\n",
       "      <th>2</th>\n",
       "      <td>1</td>\n",
       "      <td>confect around centuri light pillowi citru gel...</td>\n",
       "    </tr>\n",
       "    <tr>\n",
       "      <th>3</th>\n",
       "      <td>0</td>\n",
       "      <td>look secret ingredi robitussin believ found go...</td>\n",
       "    </tr>\n",
       "    <tr>\n",
       "      <th>4</th>\n",
       "      <td>1</td>\n",
       "      <td>great taffi great price wide assort yummi taff...</td>\n",
       "    </tr>\n",
       "  </tbody>\n",
       "</table>\n",
       "</div>"
      ],
      "text/plain": [
       "   Score                                       Cleaned_text\n",
       "0      1  bought sever vital can dog food product found ...\n",
       "1      0  product arriv label jumbo salt peanutsth peanu...\n",
       "2      1  confect around centuri light pillowi citru gel...\n",
       "3      0  look secret ingredi robitussin believ found go...\n",
       "4      1  great taffi great price wide assort yummi taff..."
      ]
     },
     "execution_count": 110,
     "metadata": {},
     "output_type": "execute_result"
    }
   ],
   "source": [
    "# read csv \n",
    "df_clean = pd.read_csv('cleaned_data.csv')\n",
    "\n",
    "# We drop the rows with empty text. \n",
    "df_clean = df_clean.dropna()\n",
    "df_clean.head()\n"
   ]
  },
  {
   "cell_type": "code",
   "execution_count": 111,
   "id": "ceed8da5",
   "metadata": {},
   "outputs": [
    {
     "data": {
      "text/plain": [
       "Score           False\n",
       "Cleaned_text    False\n",
       "dtype: bool"
      ]
     },
     "execution_count": 111,
     "metadata": {},
     "output_type": "execute_result"
    }
   ],
   "source": [
    "df_clean.isna().any()"
   ]
  },
  {
   "cell_type": "markdown",
   "id": "871a5450",
   "metadata": {},
   "source": [
    "**Sampling 100,000 entries from the whole dataset, and splitting the data into test and train sets:**"
   ]
  },
  {
   "cell_type": "code",
   "execution_count": 131,
   "id": "c627b3da",
   "metadata": {},
   "outputs": [
    {
     "name": "stdout",
     "output_type": "stream",
     "text": [
      "The shape of X_train is (70000,)\n",
      "The shape of X_test is (30000,)\n",
      "The shape of y_train is (70000,)\n",
      "The shape of y_test is (30000,)\n"
     ]
    }
   ],
   "source": [
    "from sklearn.model_selection import train_test_split\n",
    "\n",
    "df_clean = df_clean.sample(100000,random_state=0)\n",
    "\n",
    "x = df_clean['Cleaned_text']\n",
    "y = df_clean['Score']\n",
    "X_train,X_test,y_train,y_test = train_test_split(x,y,test_size=0.3,stratify=y,random_state=1)\n",
    "\n",
    "\n",
    "print(f'The shape of X_train is {X_train.shape}')\n",
    "print(f'The shape of X_test is {X_test.shape}')\n",
    "print(f'The shape of y_train is {y_train.shape}')\n",
    "print(f'The shape of y_test is {y_test.shape}')"
   ]
  },
  {
   "cell_type": "markdown",
   "id": "0e5f68a9",
   "metadata": {},
   "source": [
    "### 2.1. Unigram\n",
    "\n",
    "One word is taken as an input."
   ]
  },
  {
   "cell_type": "code",
   "execution_count": 113,
   "id": "900b709d",
   "metadata": {},
   "outputs": [
    {
     "name": "stdout",
     "output_type": "stream",
     "text": [
      "2.7088656425476074 seconds has elapsed.\n"
     ]
    }
   ],
   "source": [
    "from sklearn.feature_extraction.text import CountVectorizer\n",
    "t = time.time()\n",
    "# BOW for unigram \n",
    "bow = CountVectorizer()\n",
    "X_train_unigram = bow.fit_transform(X_train)\n",
    "X_test_unigram = bow.transform(X_test)\n",
    "unigram_features = bow.get_feature_names()\n",
    "\n",
    "ElapsedTime = time.time()-t\n",
    "print(f\"{ElapsedTime} seconds has elapsed.\")"
   ]
  },
  {
   "cell_type": "markdown",
   "id": "dcb91930",
   "metadata": {},
   "source": [
    "### 2.2. Bigram\n",
    "\n",
    "Two words together are taken as one input."
   ]
  },
  {
   "cell_type": "code",
   "execution_count": 135,
   "id": "8f62c9bc",
   "metadata": {},
   "outputs": [
    {
     "name": "stdout",
     "output_type": "stream",
     "text": [
      "10.308050870895386 seconds has elapsed.\n"
     ]
    }
   ],
   "source": [
    "t = time.time()\n",
    "bigram = CountVectorizer(ngram_range=(1,2))\n",
    "X_train_bigram = bigram.fit_transform(X_train)\n",
    "X_test_bigram = bigram.transform(X_test)\n",
    "bigram_features = bigram.get_feature_names()\n",
    "\n",
    "ElapsedTime = time.time()-t\n",
    "print(f\"{ElapsedTime} seconds has elapsed.\")"
   ]
  },
  {
   "cell_type": "markdown",
   "id": "75a81db2",
   "metadata": {},
   "source": [
    "### 2.3. TFIDF: \n",
    "\n",
    "TF-IDF stands for “Term Frequency — Inverse Document Frequency”. This is a technique to quantify words in a set of documents. We generally compute a score for each word to signify its importance in the document and corpus. This method is a widely used technique in Information Retrieval and Text Mining."
   ]
  },
  {
   "cell_type": "code",
   "execution_count": 132,
   "id": "10d510a4",
   "metadata": {},
   "outputs": [
    {
     "name": "stdout",
     "output_type": "stream",
     "text": [
      "2.81314754486084 seconds has elapsed.\n"
     ]
    }
   ],
   "source": [
    "from sklearn.feature_extraction.text import TfidfTransformer\n",
    "from sklearn.feature_extraction.text import TfidfVectorizer\n",
    "#applying bow on x_train and x_test\n",
    "vectorizer = TfidfVectorizer()\n",
    "# we use the fitted CountVectorizer to convert the text to vector\n",
    "\n",
    "t = time.time()\n",
    "X_train_tfidf = vectorizer.fit_transform(X_train)\n",
    "X_test_tfidf = vectorizer.transform(X_test)\n",
    "tfidf_features = vectorizer.get_feature_names()\n",
    "\n",
    "ElapsedTime = time.time()-t\n",
    "print(f\"{ElapsedTime} seconds has elapsed.\")"
   ]
  },
  {
   "cell_type": "code",
   "execution_count": 133,
   "id": "8b51fbc1",
   "metadata": {},
   "outputs": [
    {
     "data": {
      "text/plain": [
       "(70000, 78006)"
      ]
     },
     "execution_count": 133,
     "metadata": {},
     "output_type": "execute_result"
    }
   ],
   "source": []
  },
  {
   "cell_type": "markdown",
   "id": "1486da6d",
   "metadata": {},
   "source": [
    "### 2.4. Word2Vector embedding"
   ]
  },
  {
   "cell_type": "code",
   "execution_count": 115,
   "id": "affc80e7",
   "metadata": {},
   "outputs": [
    {
     "name": "stdout",
     "output_type": "stream",
     "text": [
      "5.227527379989624 seconds has elapsed.\n"
     ]
    }
   ],
   "source": [
    "from gensim.models import Word2Vec\n",
    "from gensim.models import KeyedVectors\n",
    "\n",
    "t = time.time()\n",
    "preprocessed_reviews = X_train.values\n",
    "train_sentence = [rev.split() for rev in preprocessed_reviews]\n",
    "# size = length of the w2v vectors \n",
    "# min_count = 5: we only consider words that occured 5 times minimum\n",
    "w2v_model_train = Word2Vec(train_sentence,min_count=5,vector_size=50, workers=4)\n",
    "w2v_words = list(w2v_model_train.wv.key_to_index)\n",
    "\n",
    "ElapsedTime = time.time()-t\n",
    "print(f\"{ElapsedTime} seconds has elapsed.\")"
   ]
  },
  {
   "cell_type": "code",
   "execution_count": 116,
   "id": "bc54bdb8-bde5-4d92-8a49-ff314b9017d7",
   "metadata": {},
   "outputs": [
    {
     "name": "stdout",
     "output_type": "stream",
     "text": [
      "Number of words that occured minimum 5 times:  12674\n",
      "Sample words:  ['like', 'tast', 'good', 'flavor', 'use', 'product', 'one', 'love', 'great', 'tri', 'would', 'tea', 'coffe', 'get', 'make', 'food', 'buy', 'time', 'eat', 'realli', 'order', 'much', 'price', 'amazon', 'find', 'also', 'littl', 'best', 'dog', 'bag', 'even', 'drink', 'store', 'well', 'go', 'chocol', 'better', 'box', 'mix', 'day', 'water', 'look', 'year', 'recommend', 'first', 'could', 'sugar', 'sweet', 'want', 'give']\n"
     ]
    }
   ],
   "source": [
    "print(\"Number of words that occured minimum 5 times: \",len(w2v_words))\n",
    "print(\"Sample words: \", w2v_words[0:50])"
   ]
  },
  {
   "cell_type": "markdown",
   "id": "fa7a30f9-6445-4b01-a91b-98bc89562e6a",
   "metadata": {},
   "source": [
    "## 2.5 Average Word2Vector \n",
    "\n",
    "We compute average word2vec for each review. "
   ]
  },
  {
   "cell_type": "code",
   "execution_count": 117,
   "id": "e81c609a-3328-4087-92e2-7667543c2fa4",
   "metadata": {},
   "outputs": [],
   "source": [
    "from tqdm.auto import tqdm\n",
    "\n",
    "# splitting each review into a list of words \n",
    "train_review_list=[]\n",
    "for review in X_train.values:\n",
    "    train_review_list.append(review.split())    \n",
    "    \n",
    "test_review_list=[]\n",
    "for review in X_test.values:\n",
    "    test_review_list.append(review.split())"
   ]
  },
  {
   "cell_type": "code",
   "execution_count": 119,
   "id": "8b16cb09-ebc3-4cf3-9881-cf9221a44ae1",
   "metadata": {},
   "outputs": [
    {
     "data": {
      "application/vnd.jupyter.widget-view+json": {
       "model_id": "692e360694bb42408dd9e94ed6020996",
       "version_major": 2,
       "version_minor": 0
      },
      "text/plain": [
       "  0%|          | 0/70000 [00:00<?, ?it/s]"
      ]
     },
     "metadata": {},
     "output_type": "display_data"
    },
    {
     "name": "stdout",
     "output_type": "stream",
     "text": [
      "72.13664197921753 seconds has elapsed.\n"
     ]
    }
   ],
   "source": [
    "train_sentence_vec = [] # the avg-w2v for each reveiw \n",
    "t = time.time()\n",
    "for word_list in tqdm(train_review_list): # for each review (list of words generated from a review)\n",
    "    sent_vec = np.zeros(50) #  \n",
    "    word_count = 0 # number of words witha valid ector in the sentence/review \n",
    "    for word in word_list: \n",
    "        if word in w2v_words:\n",
    "            vec = w2v_model_train.wv[word] # this returns the word vector for word \n",
    "            sent_vec += vec \n",
    "            word_count += 1\n",
    "    if word_count != 0: \n",
    "        sent_vec /= word_count # averaging word vectors \n",
    "    train_sentence_vec.append(sent_vec)\n",
    "ElapsedTime = time.time()-t\n",
    "print(f\"{ElapsedTime} seconds has elapsed.\")\n"
   ]
  },
  {
   "cell_type": "code",
   "execution_count": 120,
   "id": "e9da6ec9-71b4-4223-93bc-f0153410ff2d",
   "metadata": {},
   "outputs": [
    {
     "data": {
      "application/vnd.jupyter.widget-view+json": {
       "model_id": "3764fc8a5f7a47a485d70b27ed743e74",
       "version_major": 2,
       "version_minor": 0
      },
      "text/plain": [
       "  0%|          | 0/30000 [00:00<?, ?it/s]"
      ]
     },
     "metadata": {},
     "output_type": "display_data"
    },
    {
     "name": "stdout",
     "output_type": "stream",
     "text": [
      "31.185140371322632 seconds has elapsed.\n"
     ]
    }
   ],
   "source": [
    "test_sentence_vec = [] # the avg-w2v for each reveiw \n",
    "t = time.time()\n",
    "for word_list in tqdm(test_review_list): # for each review (list of words generated from a review)\n",
    "    sent_vec = np.zeros(50) #  \n",
    "    word_count = 0 # number of words witha valid ector in the sentence/review \n",
    "    for word in word_list: \n",
    "        if word in w2v_words:\n",
    "            vec = w2v_model_train.wv[word] # this returns the word vector for word \n",
    "            sent_vec += vec \n",
    "            word_count += 1\n",
    "    if word_count != 0: \n",
    "        sent_vec /= word_count # averaging word vectors \n",
    "    test_sentence_vec.append(sent_vec)\n",
    "ElapsedTime = time.time()-t\n",
    "print(f\"{ElapsedTime} seconds has elapsed.\")\n"
   ]
  },
  {
   "cell_type": "code",
   "execution_count": 121,
   "id": "34415e7d-0036-49dd-b94d-a123ae77b800",
   "metadata": {},
   "outputs": [
    {
     "name": "stdout",
     "output_type": "stream",
     "text": [
      "70000\n",
      "30000\n"
     ]
    }
   ],
   "source": [
    "print(len(train_sentence_vec))\n",
    "print(len(test_sentence_vec))"
   ]
  },
  {
   "cell_type": "code",
   "execution_count": 122,
   "id": "8258517f-862c-4218-90e6-51b27d11cbd2",
   "metadata": {},
   "outputs": [],
   "source": [
    "X_train_avgw2v = np.array(train_sentence_vec)\n",
    "X_test_avgw2v = np.array(test_sentence_vec)"
   ]
  },
  {
   "cell_type": "code",
   "execution_count": null,
   "id": "5ec31b42-8fdf-4f25-a0fa-8707290929cc",
   "metadata": {},
   "outputs": [],
   "source": []
  },
  {
   "cell_type": "markdown",
   "id": "fd9e9066",
   "metadata": {},
   "source": [
    "**Saving test and train data**"
   ]
  },
  {
   "cell_type": "code",
   "execution_count": 123,
   "id": "c31da19b",
   "metadata": {},
   "outputs": [],
   "source": [
    "np.save('savedData/X_train', X_train)\n",
    "np.save('savedData/y_train', y_train)\n",
    "np.save('savedData/X_test', X_test)\n",
    "np.save('savedData/y_test', y_test)"
   ]
  },
  {
   "cell_type": "code",
   "execution_count": 124,
   "id": "decdc806",
   "metadata": {},
   "outputs": [],
   "source": [
    "import pickle \n",
    "pickle.dump(X_train_unigram, open('savedData/X_train_unigram',\"wb\"))\n",
    "pickle.dump(X_test_unigram, open(\"savedData/X_test_unigram\",\"wb\"))\n",
    "pickle.dump(np.array(unigram_features), open(\"savedData/unigram_features\",\"wb\"))"
   ]
  },
  {
   "cell_type": "code",
   "execution_count": 136,
   "id": "9b2272bc",
   "metadata": {},
   "outputs": [],
   "source": [
    "pickle.dump(X_train_bigram, open('savedData/X_train_bigram',\"wb\"))\n",
    "pickle.dump(X_test_bigram, open(\"savedData/X_test_bigram\",\"wb\"))\n",
    "pickle.dump(np.array(bigram_features), open(\"savedData/bigram_features\",\"wb\"))"
   ]
  },
  {
   "cell_type": "code",
   "execution_count": 134,
   "id": "b6992c5a",
   "metadata": {},
   "outputs": [],
   "source": [
    "pickle.dump(X_train_tfidf, open('savedData/X_train_tfidf',\"wb\"))\n",
    "pickle.dump(X_test_tfidf, open(\"savedData/X_test_tfidf\",\"wb\"))\n",
    "pickle.dump(np.array(tfidf_features), open(\"savedData/tfidf_features\",\"wb\"))"
   ]
  },
  {
   "cell_type": "code",
   "execution_count": 126,
   "id": "822f1c60",
   "metadata": {},
   "outputs": [],
   "source": [
    "pickle.dump(np.array(w2v_words),open(\"savedData/w2v_words\",\"wb\"))\n",
    "pickle.dump(np.array(X_train_avgw2v), open(\"savedData/X_train_avgw2v\",\"wb\"))\n",
    "pickle.dump(np.array(X_test_avgw2v), open(\"savedData/X_test_avgw2v\",\"wb\"))"
   ]
  },
  {
   "cell_type": "code",
   "execution_count": null,
   "id": "ddba385e-b976-4c09-8377-d2ef2e7576e1",
   "metadata": {},
   "outputs": [],
   "source": []
  }
 ],
 "metadata": {
  "kernelspec": {
   "display_name": "Python 3 (ipykernel)",
   "language": "python",
   "name": "python3"
  },
  "language_info": {
   "codemirror_mode": {
    "name": "ipython",
    "version": 3
   },
   "file_extension": ".py",
   "mimetype": "text/x-python",
   "name": "python",
   "nbconvert_exporter": "python",
   "pygments_lexer": "ipython3",
   "version": "3.9.7"
  }
 },
 "nbformat": 4,
 "nbformat_minor": 5
}
