{
 "cells": [
  {
   "cell_type": "markdown",
   "id": "11b13342-afb2-48f1-928c-0dd0e370f98f",
   "metadata": {},
   "source": [
    "# 2. Machine learning models\n",
    "\n",
    "Now, we will build ML models to predict conversion rates based on user profiles. Our goal is to make accurate predictions and gain insights on how to improve user conversions. \n",
    "\n",
    "We choose the following models: \n",
    "1. Logistic regression\n",
    "2. Random forest"
   ]
  },
  {
   "cell_type": "code",
   "execution_count": 144,
   "id": "94a39b10-ca15-4776-96b8-58dcec63bb71",
   "metadata": {},
   "outputs": [],
   "source": [
    "%matplotlib inline\n",
    "import warnings\n",
    "warnings.filterwarnings(\"ignore\")\n",
    "\n",
    "import pandas as pd\n",
    "import numpy as np\n",
    "import seaborn as sns \n",
    "import matplotlib.pyplot as plt\n",
    "import time\n",
    "sns.set_theme()\n",
    "\n",
    "Fontsize=12"
   ]
  },
  {
   "cell_type": "markdown",
   "id": "dd64d7bc-d099-4db7-ab1f-e3a5fdfc6f8c",
   "metadata": {},
   "source": [
    "## 2.1. Data preprocessing \n",
    "\n",
    "We create dummy variables for the categorical features (country and source)"
   ]
  },
  {
   "cell_type": "code",
   "execution_count": 17,
   "id": "06710614-51a4-474b-b177-ee10ddbb899f",
   "metadata": {},
   "outputs": [
    {
     "data": {
      "text/html": [
       "<div>\n",
       "<style scoped>\n",
       "    .dataframe tbody tr th:only-of-type {\n",
       "        vertical-align: middle;\n",
       "    }\n",
       "\n",
       "    .dataframe tbody tr th {\n",
       "        vertical-align: top;\n",
       "    }\n",
       "\n",
       "    .dataframe thead th {\n",
       "        text-align: right;\n",
       "    }\n",
       "</style>\n",
       "<table border=\"1\" class=\"dataframe\">\n",
       "  <thead>\n",
       "    <tr style=\"text-align: right;\">\n",
       "      <th></th>\n",
       "      <th>country</th>\n",
       "      <th>age</th>\n",
       "      <th>new_user</th>\n",
       "      <th>source</th>\n",
       "      <th>total_pages_visited</th>\n",
       "      <th>converted</th>\n",
       "    </tr>\n",
       "  </thead>\n",
       "  <tbody>\n",
       "    <tr>\n",
       "      <th>0</th>\n",
       "      <td>UK</td>\n",
       "      <td>25</td>\n",
       "      <td>1</td>\n",
       "      <td>Ads</td>\n",
       "      <td>1</td>\n",
       "      <td>0</td>\n",
       "    </tr>\n",
       "    <tr>\n",
       "      <th>1</th>\n",
       "      <td>US</td>\n",
       "      <td>23</td>\n",
       "      <td>1</td>\n",
       "      <td>Seo</td>\n",
       "      <td>5</td>\n",
       "      <td>0</td>\n",
       "    </tr>\n",
       "    <tr>\n",
       "      <th>2</th>\n",
       "      <td>US</td>\n",
       "      <td>28</td>\n",
       "      <td>1</td>\n",
       "      <td>Seo</td>\n",
       "      <td>4</td>\n",
       "      <td>0</td>\n",
       "    </tr>\n",
       "    <tr>\n",
       "      <th>3</th>\n",
       "      <td>China</td>\n",
       "      <td>39</td>\n",
       "      <td>1</td>\n",
       "      <td>Seo</td>\n",
       "      <td>5</td>\n",
       "      <td>0</td>\n",
       "    </tr>\n",
       "    <tr>\n",
       "      <th>4</th>\n",
       "      <td>US</td>\n",
       "      <td>30</td>\n",
       "      <td>1</td>\n",
       "      <td>Seo</td>\n",
       "      <td>6</td>\n",
       "      <td>0</td>\n",
       "    </tr>\n",
       "  </tbody>\n",
       "</table>\n",
       "</div>"
      ],
      "text/plain": [
       "  country  age  new_user source  total_pages_visited  converted\n",
       "0      UK   25         1    Ads                    1          0\n",
       "1      US   23         1    Seo                    5          0\n",
       "2      US   28         1    Seo                    4          0\n",
       "3   China   39         1    Seo                    5          0\n",
       "4      US   30         1    Seo                    6          0"
      ]
     },
     "execution_count": 17,
     "metadata": {},
     "output_type": "execute_result"
    }
   ],
   "source": [
    "df = pd.read_csv('conversion_data_clean.csv')\n",
    "df.head()"
   ]
  },
  {
   "cell_type": "code",
   "execution_count": 18,
   "id": "c9f2d807-ffb8-491f-b956-569ce181aaca",
   "metadata": {},
   "outputs": [],
   "source": [
    "df_dummy = pd.get_dummies(df,drop_first=True)"
   ]
  },
  {
   "cell_type": "code",
   "execution_count": 24,
   "id": "dbe66761-9988-4298-8671-2a1d1d18e886",
   "metadata": {},
   "outputs": [
    {
     "data": {
      "text/html": [
       "<div>\n",
       "<style scoped>\n",
       "    .dataframe tbody tr th:only-of-type {\n",
       "        vertical-align: middle;\n",
       "    }\n",
       "\n",
       "    .dataframe tbody tr th {\n",
       "        vertical-align: top;\n",
       "    }\n",
       "\n",
       "    .dataframe thead th {\n",
       "        text-align: right;\n",
       "    }\n",
       "</style>\n",
       "<table border=\"1\" class=\"dataframe\">\n",
       "  <thead>\n",
       "    <tr style=\"text-align: right;\">\n",
       "      <th></th>\n",
       "      <th>age</th>\n",
       "      <th>new_user</th>\n",
       "      <th>total_pages_visited</th>\n",
       "      <th>converted</th>\n",
       "      <th>country_Germany</th>\n",
       "      <th>country_UK</th>\n",
       "      <th>country_US</th>\n",
       "      <th>source_Direct</th>\n",
       "      <th>source_Seo</th>\n",
       "    </tr>\n",
       "  </thead>\n",
       "  <tbody>\n",
       "    <tr>\n",
       "      <th>0</th>\n",
       "      <td>25</td>\n",
       "      <td>1</td>\n",
       "      <td>1</td>\n",
       "      <td>0</td>\n",
       "      <td>0</td>\n",
       "      <td>1</td>\n",
       "      <td>0</td>\n",
       "      <td>0</td>\n",
       "      <td>0</td>\n",
       "    </tr>\n",
       "    <tr>\n",
       "      <th>1</th>\n",
       "      <td>23</td>\n",
       "      <td>1</td>\n",
       "      <td>5</td>\n",
       "      <td>0</td>\n",
       "      <td>0</td>\n",
       "      <td>0</td>\n",
       "      <td>1</td>\n",
       "      <td>0</td>\n",
       "      <td>1</td>\n",
       "    </tr>\n",
       "    <tr>\n",
       "      <th>2</th>\n",
       "      <td>28</td>\n",
       "      <td>1</td>\n",
       "      <td>4</td>\n",
       "      <td>0</td>\n",
       "      <td>0</td>\n",
       "      <td>0</td>\n",
       "      <td>1</td>\n",
       "      <td>0</td>\n",
       "      <td>1</td>\n",
       "    </tr>\n",
       "    <tr>\n",
       "      <th>3</th>\n",
       "      <td>39</td>\n",
       "      <td>1</td>\n",
       "      <td>5</td>\n",
       "      <td>0</td>\n",
       "      <td>0</td>\n",
       "      <td>0</td>\n",
       "      <td>0</td>\n",
       "      <td>0</td>\n",
       "      <td>1</td>\n",
       "    </tr>\n",
       "    <tr>\n",
       "      <th>4</th>\n",
       "      <td>30</td>\n",
       "      <td>1</td>\n",
       "      <td>6</td>\n",
       "      <td>0</td>\n",
       "      <td>0</td>\n",
       "      <td>0</td>\n",
       "      <td>1</td>\n",
       "      <td>0</td>\n",
       "      <td>1</td>\n",
       "    </tr>\n",
       "  </tbody>\n",
       "</table>\n",
       "</div>"
      ],
      "text/plain": [
       "   age  new_user  total_pages_visited  converted  country_Germany  country_UK  \\\n",
       "0   25         1                    1          0                0           1   \n",
       "1   23         1                    5          0                0           0   \n",
       "2   28         1                    4          0                0           0   \n",
       "3   39         1                    5          0                0           0   \n",
       "4   30         1                    6          0                0           0   \n",
       "\n",
       "   country_US  source_Direct  source_Seo  \n",
       "0           0              0           0  \n",
       "1           1              0           1  \n",
       "2           1              0           1  \n",
       "3           0              0           1  \n",
       "4           1              0           1  "
      ]
     },
     "execution_count": 24,
     "metadata": {},
     "output_type": "execute_result"
    }
   ],
   "source": [
    "df_dummy.head()"
   ]
  },
  {
   "cell_type": "markdown",
   "id": "4381feb2-c62b-47a2-9dd4-7bc7ee843eb8",
   "metadata": {},
   "source": [
    "Now we split the data into train and test sets."
   ]
  },
  {
   "cell_type": "code",
   "execution_count": 27,
   "id": "f8486313-a1d6-4126-96cf-227ed204d571",
   "metadata": {},
   "outputs": [],
   "source": [
    "X= df_dummy.drop(['converted'],axis=1)\n",
    "Y = df_dummy['converted']"
   ]
  },
  {
   "cell_type": "code",
   "execution_count": 30,
   "id": "2ca7b15d-c0f7-4b09-8de6-7e2f66be79b0",
   "metadata": {},
   "outputs": [
    {
     "name": "stdout",
     "output_type": "stream",
     "text": [
      "The shape of X_train is (221338, 8)\n",
      "The shape of X_test is (94860, 8)\n",
      "The shape of y_train is (221338,)\n",
      "The shape of y_test is (94860,)\n"
     ]
    }
   ],
   "source": [
    "from sklearn.model_selection import train_test_split\n",
    "X_train,X_test,y_train,y_test = train_test_split(X,Y,test_size=0.3,random_state=1)\n",
    "print(f'The shape of X_train is {X_train.shape}')\n",
    "print(f'The shape of X_test is {X_test.shape}')\n",
    "print(f'The shape of y_train is {y_train.shape}')\n",
    "print(f'The shape of y_test is {y_test.shape}')\n"
   ]
  },
  {
   "cell_type": "markdown",
   "id": "fb181637-cb1c-4f6e-84fa-3f64a18446ae",
   "metadata": {},
   "source": [
    "## 2.2. Logistic regression"
   ]
  },
  {
   "cell_type": "code",
   "execution_count": 45,
   "id": "cc13f891-1dc2-4d6b-96b8-2a7294d6c309",
   "metadata": {},
   "outputs": [],
   "source": [
    "from sklearn.linear_model import LogisticRegression"
   ]
  },
  {
   "cell_type": "markdown",
   "id": "6d6ce850-eecb-416f-8301-4beec525508d",
   "metadata": {},
   "source": [
    "### 2.2.1. Hyperparameter tuning \n",
    "We determine the regularization method and penalty paremeter C for the logistic model using cross-validated grid search. To take data imbalance in consideration, we use the macro F1 score. \n",
    "\n",
    "The optimal parameters are found to be:\n",
    "- regularization method = L2 \n",
    "- penalty parameter C = 1000"
   ]
  },
  {
   "cell_type": "code",
   "execution_count": 194,
   "id": "ed17efad-a3ce-43cc-936f-75b39a6d5cdb",
   "metadata": {},
   "outputs": [
    {
     "name": "stdout",
     "output_type": "stream",
     "text": [
      "The elapsed time is 95.06563186645508 seconds.\n"
     ]
    }
   ],
   "source": [
    "penalty = ['l1','l2']\n",
    "C = [0.001,0.01,0.1,1,10,100,1000]\n",
    "t=time.time()\n",
    "grid={\"penalty\":penalty,\"C\":C}\n",
    "logreg=LogisticRegression(solver='liblinear')\n",
    "model=GridSearchCV(logreg,grid,cv=5,scoring='f1_macro',return_train_score=True)\n",
    "model.fit(X_train,y_train)\n",
    "\n",
    "Elapsed = time.time()-t\n",
    "print(f\"The elapsed time is {Elapsed} seconds.\")"
   ]
  },
  {
   "cell_type": "code",
   "execution_count": 195,
   "id": "b70353f7-0afa-433e-a700-1967e4edfd6f",
   "metadata": {},
   "outputs": [
    {
     "name": "stdout",
     "output_type": "stream",
     "text": [
      "{'C': 1000, 'penalty': 'l2'}\n"
     ]
    }
   ],
   "source": [
    "best_params_lr = model.best_params_\n",
    "print(best_params_lr)"
   ]
  },
  {
   "cell_type": "code",
   "execution_count": 196,
   "id": "fad9c726-3341-43fd-a036-bd9b727d3524",
   "metadata": {},
   "outputs": [],
   "source": [
    "train_f1 = model.cv_results_['mean_train_score'].reshape(len(penalty),len(C))\n",
    "cv_f1 = model.cv_results_['mean_test_score'].reshape(len(penalty),len(C))"
   ]
  },
  {
   "cell_type": "code",
   "execution_count": 199,
   "id": "d6c56bec-f759-4e76-8e38-d2d1a76c3a71",
   "metadata": {},
   "outputs": [
    {
     "data": {
      "image/png": "[encoded data removed]",
      "text/plain": [
       "<Figure size 576x288 with 2 Axes>"
      ]
     },
     "metadata": {},
     "output_type": "display_data"
    }
   ],
   "source": [
    "fig, axes = plt.subplots(1,2,figsize= (8,4))\n",
    "plt.tight_layout(pad=3)\n",
    "titles = [train_f1,cv_f1]\n",
    "for i in range(len(penalty)):\n",
    "    scores_train = train_f1[1]\n",
    "    scores_cv = cv_f1[1]\n",
    "\n",
    "    axes[i].semilogx(C,scores_train,'-o',markersize=10,label='Train')\n",
    "    # axes[i].set_title('Grid search train: L1 regularization')\n",
    "    axes[i].semilogx(C,scores_cv,'-o',markersize=10,label='CV')\n",
    "    # axes[i].set_title('Grid search CV: L1 regularization')\n",
    "    axes[i].legend(fontsize=Fontsize)\n",
    "    axes[i].set_xlabel('C',fontsize=Fontsize)\n",
    "    axes[i].set_ylabel('F1 score',fontsize=Fontsize)\n",
    "    axes[i].set_title(f\"Grid search: {'L1 regularization' if i==0 else 'L2 regularization'}\",fontsize=Fontsize+2)\n",
    "    # axes[i].set_xlabel(\"number of estimators\")\n",
    "    # axes[i].set_ylabel(\"maximum depth\")\n",
    "plt.show()"
   ]
  },
  {
   "cell_type": "markdown",
   "id": "9b53075f-c59d-4421-acbc-9eb0632db566",
   "metadata": {},
   "source": [
    "## 2.2.2. Logistic regression with optimal parameters \n",
    "\n",
    "\n",
    "The macro F1 score for the prediction results isis 0.88.\n",
    "\n",
    "Note:\n",
    "$$\\text{Macro-F1} = \\frac{\\text{sum of F1 scores}}{\\text{number of classes}} = \\frac{F1 (\\text{converted}) + F1 (\\text{not converted})}{2}.$$\n",
    "\n",
    "By averaging the F1 scores, macro F1 takes class imbalance into consideration when assessing the overall performance of the model.\n",
    "\n",
    "In the classification report, the precisions and recalls for predicting converted/non-converted users are presented. \n",
    "\n",
    "For the \"not converted\" class, both precision and recall are extremely high. This is mostly due to the highly imbalanced class distribution as more than 99% of the users do not convert. \n",
    "\n",
    "For the \"converted\" class, the precision is 0.85 and the recall is 0.69. "
   ]
  },
  {
   "cell_type": "code",
   "execution_count": 200,
   "id": "d0b679c5-9ec3-423b-831e-1f0ffa9aa832",
   "metadata": {},
   "outputs": [],
   "source": [
    "model_lr_opt = LogisticRegression(**best_params_lr)\n",
    "model_lr_opt.fit(X_train, y_train)\n",
    "\n",
    "y_pred_lr= model.predict(X_test)"
   ]
  },
  {
   "cell_type": "code",
   "execution_count": 243,
   "id": "d64a3ab2-9580-44c3-8406-22adbbc844d1",
   "metadata": {},
   "outputs": [
    {
     "data": {
      "image/png": "[encoded data removed]",
      "text/plain": [
       "<Figure size 360x288 with 2 Axes>"
      ]
     },
     "metadata": {},
     "output_type": "display_data"
    }
   ],
   "source": [
    "from sklearn.metrics import confusion_matrix\n",
    "conf_matrix = confusion_matrix(y_true=y_test, y_pred=y_pred_lr)\n",
    "#\n",
    "# Print the confusion matrix using Matplotlib\n",
    "#\n",
    "fig, ax = plt.subplots(figsize=(5,4))\n",
    "sns.heatmap(conf_matrix,xticklabels=['not converted','converted'],\n",
    "            yticklabels=['not converted','converted'],annot=True,\n",
    "            fmt=\"g\", annot_kws={\"size\": 15},cmap=\"Blues\",ax=ax)\n",
    "ax.set_xlabel('Predictions', fontsize=Fontsize)\n",
    "ax.set_ylabel('Actuals', fontsize=Fontsize)\n",
    "plt.title('Confusion Matrix', fontsize=Fontsize)\n",
    "plt.show()"
   ]
  },
  {
   "cell_type": "code",
   "execution_count": 244,
   "id": "8cd5f296-1dcd-4019-aa01-0f2fbe834336",
   "metadata": {},
   "outputs": [
    {
     "name": "stdout",
     "output_type": "stream",
     "text": [
      "Classification report:\n",
      "              precision    recall  f1-score   support\n",
      "\n",
      "           0       0.99      1.00      0.99     91799\n",
      "           1       0.85      0.69      0.76      3061\n",
      "\n",
      "    accuracy                           0.99     94860\n",
      "   macro avg       0.92      0.84      0.88     94860\n",
      "weighted avg       0.99      0.99      0.99     94860\n",
      "\n",
      "The macro F1 socre is 0.8780556323579566\n"
     ]
    }
   ],
   "source": [
    "from sklearn.metrics import classification_report\n",
    "print('Classification report:')\n",
    "print(classification_report(y_test, y_pred_lr))\n",
    "\n",
    "\n",
    "f1_macro = f1_score(y_test, y_pred_lr,average='macro')\n",
    "print(f\"The macro F1 socre is {f1_macro}\")"
   ]
  },
  {
   "cell_type": "markdown",
   "id": "c61c3291-12b6-477d-9d3d-e8b598617683",
   "metadata": {},
   "source": [
    "### 2.2.3. Feature importance\n",
    "\n",
    "Here, we want to understand what types of users are mostly likely to convert. We measure the feature importance by the weights provided by the logistic regression model.\n",
    "\n",
    "\n",
    "From the table and barplot below, we find that **users from Germany are mostly likely to convert, followed by UK and US users. In addition, older users are more likely to convert than new users, and so are users who visit more pages.** \n",
    "\n",
    "**Different choices of marketing channel sorces don't seem to affect the user conversion rates.**"
   ]
  },
  {
   "cell_type": "code",
   "execution_count": 252,
   "id": "6ed89f8f-b9e5-47b5-a2c7-9b2a918cde65",
   "metadata": {},
   "outputs": [
    {
     "data": {
      "text/html": [
       "<div>\n",
       "<style scoped>\n",
       "    .dataframe tbody tr th:only-of-type {\n",
       "        vertical-align: middle;\n",
       "    }\n",
       "\n",
       "    .dataframe tbody tr th {\n",
       "        vertical-align: top;\n",
       "    }\n",
       "\n",
       "    .dataframe thead th {\n",
       "        text-align: right;\n",
       "    }\n",
       "</style>\n",
       "<table border=\"1\" class=\"dataframe\">\n",
       "  <thead>\n",
       "    <tr style=\"text-align: right;\">\n",
       "      <th></th>\n",
       "      <th>weight</th>\n",
       "      <th>|weight|</th>\n",
       "    </tr>\n",
       "  </thead>\n",
       "  <tbody>\n",
       "    <tr>\n",
       "      <th>country_Germany</th>\n",
       "      <td>3.638957</td>\n",
       "      <td>3.638957</td>\n",
       "    </tr>\n",
       "    <tr>\n",
       "      <th>country_UK</th>\n",
       "      <td>3.476922</td>\n",
       "      <td>3.476922</td>\n",
       "    </tr>\n",
       "    <tr>\n",
       "      <th>country_US</th>\n",
       "      <td>3.128145</td>\n",
       "      <td>3.128145</td>\n",
       "    </tr>\n",
       "    <tr>\n",
       "      <th>new_user</th>\n",
       "      <td>-1.732365</td>\n",
       "      <td>1.732365</td>\n",
       "    </tr>\n",
       "    <tr>\n",
       "      <th>total_pages_visited</th>\n",
       "      <td>0.760828</td>\n",
       "      <td>0.760828</td>\n",
       "    </tr>\n",
       "    <tr>\n",
       "      <th>source_Direct</th>\n",
       "      <td>-0.208927</td>\n",
       "      <td>0.208927</td>\n",
       "    </tr>\n",
       "    <tr>\n",
       "      <th>age</th>\n",
       "      <td>-0.074348</td>\n",
       "      <td>0.074348</td>\n",
       "    </tr>\n",
       "    <tr>\n",
       "      <th>source_Seo</th>\n",
       "      <td>-0.069542</td>\n",
       "      <td>0.069542</td>\n",
       "    </tr>\n",
       "  </tbody>\n",
       "</table>\n",
       "</div>"
      ],
      "text/plain": [
       "                       weight  |weight|\n",
       "country_Germany      3.638957  3.638957\n",
       "country_UK           3.476922  3.476922\n",
       "country_US           3.128145  3.128145\n",
       "new_user            -1.732365  1.732365\n",
       "total_pages_visited  0.760828  0.760828\n",
       "source_Direct       -0.208927  0.208927\n",
       "age                 -0.074348  0.074348\n",
       "source_Seo          -0.069542  0.069542"
      ]
     },
     "execution_count": 252,
     "metadata": {},
     "output_type": "execute_result"
    }
   ],
   "source": [
    "feature_names = list(X_train.columns)\n",
    "\n",
    "feature_coefs = model_lr_opt.coef_[0]\n",
    "df_features = pd.DataFrame(feature_coefs,columns=['weight'],index=feature_names)\n",
    "df_features['|weight|'] = abs(feature_coefs)\n",
    "df_features= df_features.sort_values(by='|weight|',ascending=False)\n",
    "# df_important_features=df_important_features.rename({'country_int':'country','source_int':'source'})\n",
    "df_features"
   ]
  },
  {
   "cell_type": "code",
   "execution_count": 191,
   "id": "98988069-9618-4d06-9241-c1c819d142ad",
   "metadata": {},
   "outputs": [
    {
     "data": {
      "image/png": "[encoded data removed]",
      "text/plain": [
       "<Figure size 216x216 with 1 Axes>"
      ]
     },
     "metadata": {},
     "output_type": "display_data"
    }
   ],
   "source": [
    "fig, ax= plt.subplots(figsize=(3,3))\n",
    "sns.barplot(data=df_features, y=df_features.index, x=\"|weight|\", \n",
    "            orient='h',ax=ax)\n",
    "# ax.legend(bbox_to_anchor=(1,1))\n",
    "ax.set_xlabel('coefficient')\n",
    "plt.show()"
   ]
  },
  {
   "cell_type": "markdown",
   "id": "77fad860-dc5b-4aab-9de9-6aa63e723ec0",
   "metadata": {},
   "source": [
    "## 2.3. Random forest "
   ]
  },
  {
   "cell_type": "code",
   "execution_count": 253,
   "id": "d23d6d88-1aae-4dff-9cb8-c24efbfdae06",
   "metadata": {},
   "outputs": [],
   "source": [
    "from sklearn.ensemble import RandomForestClassifier"
   ]
  },
  {
   "cell_type": "markdown",
   "id": "7fbdc8c6-a1b2-43da-90f9-84aa304b861c",
   "metadata": {},
   "source": [
    "### 2.3.1. Hyperparameter tuning \n",
    "We determine the optimal number of estimators and maximum tree depth for the random forest using cross-validated grid search. To take data imbalance in consideration, we use the macro F1 score. \n",
    "\n",
    "The optimal parameters are found to be:\n",
    "- number of estimators = L2 \n",
    "- maximum depth = 1000"
   ]
  },
  {
   "cell_type": "code",
   "execution_count": 254,
   "id": "676e1554-a1e2-455f-8a93-1a06966631e9",
   "metadata": {},
   "outputs": [
    {
     "name": "stdout",
     "output_type": "stream",
     "text": [
      "The elapsed time is 552.0896298885345 seconds.\n"
     ]
    }
   ],
   "source": [
    "from sklearn.model_selection import GridSearchCV\n",
    "\n",
    "t= time.time()\n",
    "clf = RandomForestClassifier(n_jobs=-1)\n",
    "number_of_estimators = [5, 10, 50, 100, 120]\n",
    "max_depth =[1, 5, 7, 10, 15, 25, 30]\n",
    "parameters = {'n_estimators': number_of_estimators ,'max_depth':max_depth}\n",
    "model = GridSearchCV(estimator=clf, param_grid=parameters, cv=5, n_jobs=-1, scoring='f1_macro',return_train_score=True)\n",
    "model.fit(X_train,y_train)\n",
    "\n",
    "Elapsed = time.time()-t\n",
    "print(f\"The elapsed time is {Elapsed} seconds.\")"
   ]
  },
  {
   "cell_type": "code",
   "execution_count": 255,
   "id": "90f6660d-c203-40c1-9fe5-d2988580b981",
   "metadata": {},
   "outputs": [
    {
     "name": "stdout",
     "output_type": "stream",
     "text": [
      "{'max_depth': 10, 'n_estimators': 50}\n"
     ]
    }
   ],
   "source": [
    "best_params_rf = model.best_params_\n",
    "print(best_params_rf)"
   ]
  },
  {
   "cell_type": "code",
   "execution_count": 256,
   "id": "d5499502-f0ba-40f1-9493-90c2491f9bf2",
   "metadata": {},
   "outputs": [
    {
     "data": {
      "image/png": "[encoded data removed]",
      "text/plain": [
       "<Figure size 576x288 with 4 Axes>"
      ]
     },
     "metadata": {},
     "output_type": "display_data"
    }
   ],
   "source": [
    "train_f1 = model.cv_results_['mean_train_score'].reshape(7,5)\n",
    "cv_f1 = model.cv_results_['mean_test_score'].reshape(7,5)\n",
    "\n",
    "\n",
    "fig, axes = plt.subplots(1,2,figsize= (8,4))\n",
    "plt.tight_layout(pad=3)\n",
    "titles = [train_f1,cv_f1]\n",
    "for i in range(2):\n",
    "    sns.heatmap(titles[i],xticklabels=number_of_estimators,yticklabels=max_depth,annot=True,ax=axes[i])\n",
    "    axes[i].set_title(f\"Grid search {'Train' if i==0 else 'CV'}\")\n",
    "    axes[i].set_xlabel(\"number of estimators\")\n",
    "    axes[i].set_ylabel(\"maximum depth\")\n",
    "plt.show()"
   ]
  },
  {
   "cell_type": "markdown",
   "id": "5e29cb7f-fb44-4562-961f-eff06aa7259e",
   "metadata": {},
   "source": [
    "### 2.3.2. Random forest with optimal parameters\n",
    "Now we train our model with the optimal parameters. The macro F1 score for the predictions is 0.87. "
   ]
  },
  {
   "cell_type": "code",
   "execution_count": 260,
   "id": "098833b6-0e55-450a-9283-e408031bdf50",
   "metadata": {},
   "outputs": [],
   "source": [
    "model_rf_opt = RandomForestClassifier(**best_params_rf)\n",
    "model_rf_opt.fit(X_train,y_train)\n",
    "y_pred_rf = model.predict(X_test)"
   ]
  },
  {
   "cell_type": "code",
   "execution_count": 262,
   "id": "add4512c-5150-42aa-b8d7-2e285d48fcdb",
   "metadata": {},
   "outputs": [
    {
     "name": "stdout",
     "output_type": "stream",
     "text": [
      "The weighted F1 score is 0.8731894003336059.\n",
      "\n"
     ]
    }
   ],
   "source": [
    "from sklearn.metrics import f1_score\n",
    "f1_weighted = f1_score(y_test, y_pred_rf, average='macro')\n",
    "print(f\"The weighted F1 score is {f1_weighted}.\\n\")"
   ]
  },
  {
   "cell_type": "code",
   "execution_count": 258,
   "id": "79f1b7a2-71c4-4c60-8629-681aef6160e1",
   "metadata": {},
   "outputs": [
    {
     "data": {
      "image/png": "[encoded data removed]",
      "text/plain": [
       "<Figure size 360x288 with 2 Axes>"
      ]
     },
     "metadata": {},
     "output_type": "display_data"
    }
   ],
   "source": [
    "from sklearn.metrics import confusion_matrix\n",
    "conf_matrix = confusion_matrix(y_true=y_test, y_pred=y_pred_rf)\n",
    "#\n",
    "# Print the confusion matrix using Matplotlib\n",
    "#\n",
    "fig, ax = plt.subplots(figsize=(5,4))\n",
    "sns.heatmap(conf_matrix,xticklabels=['not converted','converted'],\n",
    "            yticklabels=['not converted','converted'],annot=True,\n",
    "            fmt=\"g\", annot_kws={\"size\": 15},cmap=\"Blues\",ax=ax)\n",
    "ax.set_xlabel('Predictions', fontsize=Fontsize)\n",
    "ax.set_ylabel('Actuals', fontsize=Fontsize)\n",
    "plt.title('Confusion Matrix', fontsize=Fontsize)\n",
    "plt.show()"
   ]
  },
  {
   "cell_type": "code",
   "execution_count": 263,
   "id": "83e6908b-be93-48f4-b2ae-4c793bd86531",
   "metadata": {},
   "outputs": [
    {
     "name": "stdout",
     "output_type": "stream",
     "text": [
      "Classification report:\n",
      "              precision    recall  f1-score   support\n",
      "\n",
      "           0       0.99      1.00      0.99     91799\n",
      "           1       0.85      0.68      0.75      3061\n",
      "\n",
      "    accuracy                           0.99     94860\n",
      "   macro avg       0.92      0.84      0.87     94860\n",
      "weighted avg       0.98      0.99      0.98     94860\n",
      "\n",
      "The macro F1 socre is 0.8731894003336059\n"
     ]
    }
   ],
   "source": [
    "from sklearn.metrics import classification_report\n",
    "print('Classification report:')\n",
    "print(classification_report(y_test, y_pred_rf))\n",
    "\n",
    "\n",
    "f1_macro = f1_score(y_test, y_pred_rf,average='macro')\n",
    "print(f\"The macro F1 socre is {f1_macro}\")"
   ]
  },
  {
   "cell_type": "markdown",
   "id": "06bec492-88b8-45a0-a794-46e900d3a0f3",
   "metadata": {},
   "source": [
    "### 2.3.3. Feature importance\n",
    "We would like to know how much each featrue contributes to user conversions. \n",
    "\n",
    "\n",
    "From the data frame and barplot below, we see that **the most important feature to user conversions is the total number of pages users have visited** by a large margin, which is logical since the nubmer of pages a user visits should be proportional to their interest in the site and its products. The second important feature is weather the user is new or returning. **Returning users are more likely to make purchases** so the marketing team should prioritize existing users with accounts. \n",
    "\n",
    "\n",
    "**The least important feature is the marketing channel source.** \n",
    "\n"
   ]
  },
  {
   "cell_type": "code",
   "execution_count": 268,
   "id": "64e8e043-2f7f-4a7b-9333-0084e3b048ef",
   "metadata": {},
   "outputs": [
    {
     "data": {
      "text/plain": [
       "array([0.04937548, 0.04020408, 0.87677605, 0.00683349, 0.01144678,\n",
       "       0.01101142, 0.00214899, 0.0022037 ])"
      ]
     },
     "execution_count": 268,
     "metadata": {},
     "output_type": "execute_result"
    }
   ],
   "source": [
    "feature_importance"
   ]
  },
  {
   "cell_type": "code",
   "execution_count": 264,
   "id": "88f8a84c-a9ba-414f-a80f-1069e68b5984",
   "metadata": {},
   "outputs": [
    {
     "data": {
      "text/html": [
       "<div>\n",
       "<style scoped>\n",
       "    .dataframe tbody tr th:only-of-type {\n",
       "        vertical-align: middle;\n",
       "    }\n",
       "\n",
       "    .dataframe tbody tr th {\n",
       "        vertical-align: top;\n",
       "    }\n",
       "\n",
       "    .dataframe thead th {\n",
       "        text-align: right;\n",
       "    }\n",
       "</style>\n",
       "<table border=\"1\" class=\"dataframe\">\n",
       "  <thead>\n",
       "    <tr style=\"text-align: right;\">\n",
       "      <th></th>\n",
       "      <th>importance</th>\n",
       "    </tr>\n",
       "  </thead>\n",
       "  <tbody>\n",
       "    <tr>\n",
       "      <th>total_pages_visited</th>\n",
       "      <td>0.876776</td>\n",
       "    </tr>\n",
       "    <tr>\n",
       "      <th>age</th>\n",
       "      <td>0.049375</td>\n",
       "    </tr>\n",
       "    <tr>\n",
       "      <th>new_user</th>\n",
       "      <td>0.040204</td>\n",
       "    </tr>\n",
       "    <tr>\n",
       "      <th>country_UK</th>\n",
       "      <td>0.011447</td>\n",
       "    </tr>\n",
       "    <tr>\n",
       "      <th>country_US</th>\n",
       "      <td>0.011011</td>\n",
       "    </tr>\n",
       "    <tr>\n",
       "      <th>country_Germany</th>\n",
       "      <td>0.006833</td>\n",
       "    </tr>\n",
       "    <tr>\n",
       "      <th>source_Seo</th>\n",
       "      <td>0.002204</td>\n",
       "    </tr>\n",
       "    <tr>\n",
       "      <th>source_Direct</th>\n",
       "      <td>0.002149</td>\n",
       "    </tr>\n",
       "  </tbody>\n",
       "</table>\n",
       "</div>"
      ],
      "text/plain": [
       "                     importance\n",
       "total_pages_visited    0.876776\n",
       "age                    0.049375\n",
       "new_user               0.040204\n",
       "country_UK             0.011447\n",
       "country_US             0.011011\n",
       "country_Germany        0.006833\n",
       "source_Seo             0.002204\n",
       "source_Direct          0.002149"
      ]
     },
     "execution_count": 264,
     "metadata": {},
     "output_type": "execute_result"
    }
   ],
   "source": [
    "feature_importance = model_rf_opt.feature_importances_\n",
    "df_features = pd.DataFrame(feature_importance,columns=['importance'],index=feature_names)\n",
    "df_important_features= df_features.sort_values(by='importance',ascending=False)\n",
    "df_important_features=df_important_features.rename({'country_int':'country','source_int':'source'})\n",
    "df_important_features"
   ]
  },
  {
   "cell_type": "code",
   "execution_count": 266,
   "id": "40e6cbaa-ec9e-47e6-822d-f82e7c292488",
   "metadata": {},
   "outputs": [
    {
     "data": {
      "image/png": "[encoded data removed]",
      "text/plain": [
       "<Figure size 216x216 with 1 Axes>"
      ]
     },
     "metadata": {},
     "output_type": "display_data"
    }
   ],
   "source": [
    "fig, ax= plt.subplots(figsize=(3,3))\n",
    "sns.barplot(data=df_important_features, y=df_important_features.index, x=\"importance\", \n",
    "            orient='h',ax=ax)\n",
    "# ax.legend(bbox_to_anchor=(1,1))\n",
    "ax.set_xlabel('coefficient')\n",
    "plt.show()"
   ]
  },
  {
   "cell_type": "markdown",
   "id": "3189f6e8-3db9-4793-9d07-9562d2afc961",
   "metadata": {},
   "source": [
    "## 2.6. Conclusions and recommendations\n",
    "\n",
    "**Conclusions:**\n",
    "\n",
    "The feature importance calculation verify our speculations that the **a higher total number of pages a user has visited has a positive effect on the user conversion rate while marketing channeling sources have litte effect on the conversion rate**. \n",
    "\n",
    "We gained the additional information that **the importance of total number of pages visited outweights other user features by a large margin. This tells us the marketing team should highly target users who have visited more pages, as they are most likely to make purchases.**\n",
    "\n",
    "Also, **younger users with existing accounts and from countries with high conversion rates should also be prioritized. Different choices of marketing channeling sources has little impact on the user conversion rate and should be considered irrelavent.**  \n",
    "\n",
    "**Recommendations:**\n",
    "1. The marketing team should highly prioritize users who have visited many pages but haven't made a purchase, e.g., sending them email advertisements/coupons.  \n",
    "2. Younger users have higher conversion rates than old users. The marketing team should **expand their marketing channels to increases product/brand exposure to younger populaiton, e.g., advertisements on social platforms popular among young people**. Also, **investigate why the site is unpopular among older users, e.g., conduct surveys to identify the problems**. It could the that the UI is unfriendly, or the digital payment system is hard to navigate, etc. \n",
    "3. German users have the highest conversion rates but only 4.1% of the total users are German. The marketing team should **expand market channels in Germany to bring in more German users**; on the other hand Chinese users have extremely low conversion rate. Considering that around 1/4 of the users are from China, the low conversion rate doesn't make much sense. **There could critical issues with the Chinese site's UI (e.g., poor translation ), payment system, brand reputation, etc. If the issues are identified and fixed, this could be a massive opportunity seeing how large the Chinese market is**. \n",
    "4. Users with existing accounts have higher conversion rates compared to new users. Thus **users with accounts but have not converted could be targeted with advertising**. \n",
    "\n",
    "\n",
    "\n"
   ]
  },
  {
   "cell_type": "code",
   "execution_count": null,
   "id": "8309a330-8527-4af6-b4b6-c916a643f786",
   "metadata": {},
   "outputs": [],
   "source": []
  }
 ],
 "metadata": {
  "kernelspec": {
   "display_name": "Python 3 (ipykernel)",
   "language": "python",
   "name": "python3"
  },
  "language_info": {
   "codemirror_mode": {
    "name": "ipython",
    "version": 3
   },
   "file_extension": ".py",
   "mimetype": "text/x-python",
   "name": "python",
   "nbconvert_exporter": "python",
   "pygments_lexer": "ipython3",
   "version": "3.9.7"
  }
 },
 "nbformat": 4,
 "nbformat_minor": 5
}
